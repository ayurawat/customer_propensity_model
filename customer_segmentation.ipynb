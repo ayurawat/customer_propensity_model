{
 "cells": [
  {
   "cell_type": "code",
   "execution_count": 170,
   "id": "bee40b20",
   "metadata": {},
   "outputs": [],
   "source": [
    "##IMPORTING LIBRARIES\n",
    "\n",
    "\n",
    "from datetime import datetime, timedelta,date\n",
    "import pandas as pd\n",
    "%matplotlib inline\n",
    "from sklearn.metrics import classification_report,confusion_matrix\n",
    "import matplotlib.pyplot as plt\n",
    "import numpy as np\n",
    "import seaborn as sns\n",
    "from __future__ import division\n",
    "from sklearn.cluster import KMeans\n",
    "\n"
   ]
  },
  {
   "cell_type": "markdown",
   "id": "235dc794",
   "metadata": {},
   "source": [
    "importing dataset"
   ]
  },
  {
   "cell_type": "code",
   "execution_count": 171,
   "id": "63b76ea1",
   "metadata": {
    "scrolled": true
   },
   "outputs": [
    {
     "data": {
      "text/html": [
       "<div>\n",
       "<style scoped>\n",
       "    .dataframe tbody tr th:only-of-type {\n",
       "        vertical-align: middle;\n",
       "    }\n",
       "\n",
       "    .dataframe tbody tr th {\n",
       "        vertical-align: top;\n",
       "    }\n",
       "\n",
       "    .dataframe thead th {\n",
       "        text-align: right;\n",
       "    }\n",
       "</style>\n",
       "<table border=\"1\" class=\"dataframe\">\n",
       "  <thead>\n",
       "    <tr style=\"text-align: right;\">\n",
       "      <th></th>\n",
       "      <th>InvoiceNo</th>\n",
       "      <th>StockCode</th>\n",
       "      <th>Description</th>\n",
       "      <th>Quantity</th>\n",
       "      <th>InvoiceDate</th>\n",
       "      <th>UnitPrice</th>\n",
       "      <th>CustomerID</th>\n",
       "      <th>Country</th>\n",
       "    </tr>\n",
       "  </thead>\n",
       "  <tbody>\n",
       "    <tr>\n",
       "      <th>0</th>\n",
       "      <td>536365</td>\n",
       "      <td>85123A</td>\n",
       "      <td>WHITE HANGING HEART T-LIGHT HOLDER</td>\n",
       "      <td>6</td>\n",
       "      <td>01-12-2010 08:26</td>\n",
       "      <td>2.55</td>\n",
       "      <td>17850.0</td>\n",
       "      <td>United Kingdom</td>\n",
       "    </tr>\n",
       "    <tr>\n",
       "      <th>1</th>\n",
       "      <td>536365</td>\n",
       "      <td>71053</td>\n",
       "      <td>WHITE METAL LANTERN</td>\n",
       "      <td>6</td>\n",
       "      <td>01-12-2010 08:26</td>\n",
       "      <td>3.39</td>\n",
       "      <td>17850.0</td>\n",
       "      <td>United Kingdom</td>\n",
       "    </tr>\n",
       "    <tr>\n",
       "      <th>2</th>\n",
       "      <td>536365</td>\n",
       "      <td>84406B</td>\n",
       "      <td>CREAM CUPID HEARTS COAT HANGER</td>\n",
       "      <td>8</td>\n",
       "      <td>01-12-2010 08:26</td>\n",
       "      <td>2.75</td>\n",
       "      <td>17850.0</td>\n",
       "      <td>United Kingdom</td>\n",
       "    </tr>\n",
       "    <tr>\n",
       "      <th>3</th>\n",
       "      <td>536365</td>\n",
       "      <td>84029G</td>\n",
       "      <td>KNITTED UNION FLAG HOT WATER BOTTLE</td>\n",
       "      <td>6</td>\n",
       "      <td>01-12-2010 08:26</td>\n",
       "      <td>3.39</td>\n",
       "      <td>17850.0</td>\n",
       "      <td>United Kingdom</td>\n",
       "    </tr>\n",
       "    <tr>\n",
       "      <th>4</th>\n",
       "      <td>536365</td>\n",
       "      <td>84029E</td>\n",
       "      <td>RED WOOLLY HOTTIE WHITE HEART.</td>\n",
       "      <td>6</td>\n",
       "      <td>01-12-2010 08:26</td>\n",
       "      <td>3.39</td>\n",
       "      <td>17850.0</td>\n",
       "      <td>United Kingdom</td>\n",
       "    </tr>\n",
       "  </tbody>\n",
       "</table>\n",
       "</div>"
      ],
      "text/plain": [
       "  InvoiceNo StockCode                          Description  Quantity  \\\n",
       "0    536365    85123A   WHITE HANGING HEART T-LIGHT HOLDER         6   \n",
       "1    536365     71053                  WHITE METAL LANTERN         6   \n",
       "2    536365    84406B       CREAM CUPID HEARTS COAT HANGER         8   \n",
       "3    536365    84029G  KNITTED UNION FLAG HOT WATER BOTTLE         6   \n",
       "4    536365    84029E       RED WOOLLY HOTTIE WHITE HEART.         6   \n",
       "\n",
       "        InvoiceDate  UnitPrice  CustomerID         Country  \n",
       "0  01-12-2010 08:26       2.55     17850.0  United Kingdom  \n",
       "1  01-12-2010 08:26       3.39     17850.0  United Kingdom  \n",
       "2  01-12-2010 08:26       2.75     17850.0  United Kingdom  \n",
       "3  01-12-2010 08:26       3.39     17850.0  United Kingdom  \n",
       "4  01-12-2010 08:26       3.39     17850.0  United Kingdom  "
      ]
     },
     "execution_count": 171,
     "metadata": {},
     "output_type": "execute_result"
    }
   ],
   "source": [
    "tx_data = pd.read_csv(r'C:\\Users\\user\\Downloads\\OnlineRetail.csv',encoding= 'unicode_escape')\n",
    "tx_data.head()"
   ]
  },
  {
   "cell_type": "markdown",
   "id": "ffda88da",
   "metadata": {},
   "source": [
    "DATA WRANGLING"
   ]
  },
  {
   "cell_type": "code",
   "execution_count": 184,
   "id": "43a132f9",
   "metadata": {},
   "outputs": [
    {
     "data": {
      "text/html": [
       "<div>\n",
       "<style scoped>\n",
       "    .dataframe tbody tr th:only-of-type {\n",
       "        vertical-align: middle;\n",
       "    }\n",
       "\n",
       "    .dataframe tbody tr th {\n",
       "        vertical-align: top;\n",
       "    }\n",
       "\n",
       "    .dataframe thead th {\n",
       "        text-align: right;\n",
       "    }\n",
       "</style>\n",
       "<table border=\"1\" class=\"dataframe\">\n",
       "  <thead>\n",
       "    <tr style=\"text-align: right;\">\n",
       "      <th></th>\n",
       "      <th>InvoiceNo</th>\n",
       "      <th>StockCode</th>\n",
       "      <th>Description</th>\n",
       "      <th>Quantity</th>\n",
       "      <th>InvoiceDate</th>\n",
       "      <th>UnitPrice</th>\n",
       "      <th>CustomerID</th>\n",
       "      <th>Country</th>\n",
       "    </tr>\n",
       "  </thead>\n",
       "  <tbody>\n",
       "    <tr>\n",
       "      <th>40787</th>\n",
       "      <td>539742</td>\n",
       "      <td>22301</td>\n",
       "      <td>COFFEE MUG CAT + BIRD DESIGN</td>\n",
       "      <td>1</td>\n",
       "      <td>2010-12-21 15:20:00</td>\n",
       "      <td>5.06</td>\n",
       "      <td>NaN</td>\n",
       "      <td>United Kingdom</td>\n",
       "    </tr>\n",
       "    <tr>\n",
       "      <th>445426</th>\n",
       "      <td>574839</td>\n",
       "      <td>23462</td>\n",
       "      <td>ROCOCO WALL MIRROR WHITE</td>\n",
       "      <td>1</td>\n",
       "      <td>2011-07-11 11:40:00</td>\n",
       "      <td>19.95</td>\n",
       "      <td>15493.0</td>\n",
       "      <td>United Kingdom</td>\n",
       "    </tr>\n",
       "    <tr>\n",
       "      <th>406735</th>\n",
       "      <td>571828</td>\n",
       "      <td>22306</td>\n",
       "      <td>SILVER MUG BONE CHINA TREE OF LIFE</td>\n",
       "      <td>12</td>\n",
       "      <td>2011-10-19 11:52:00</td>\n",
       "      <td>1.06</td>\n",
       "      <td>16440.0</td>\n",
       "      <td>United Kingdom</td>\n",
       "    </tr>\n",
       "    <tr>\n",
       "      <th>462796</th>\n",
       "      <td>576014</td>\n",
       "      <td>23265</td>\n",
       "      <td>SET OF 3 WOODEN TREE DECORATIONS</td>\n",
       "      <td>1</td>\n",
       "      <td>2011-11-13 14:29:00</td>\n",
       "      <td>1.25</td>\n",
       "      <td>17218.0</td>\n",
       "      <td>United Kingdom</td>\n",
       "    </tr>\n",
       "    <tr>\n",
       "      <th>139047</th>\n",
       "      <td>548260</td>\n",
       "      <td>90099</td>\n",
       "      <td>NECKLACE+BRACELET SET BLUE HIBISCUS</td>\n",
       "      <td>4</td>\n",
       "      <td>2011-03-30 11:18:00</td>\n",
       "      <td>2.55</td>\n",
       "      <td>15373.0</td>\n",
       "      <td>United Kingdom</td>\n",
       "    </tr>\n",
       "    <tr>\n",
       "      <th>346577</th>\n",
       "      <td>567190</td>\n",
       "      <td>23399</td>\n",
       "      <td>HOME SWEET HOME HANGING HEART</td>\n",
       "      <td>24</td>\n",
       "      <td>2011-09-19 09:14:00</td>\n",
       "      <td>0.85</td>\n",
       "      <td>18226.0</td>\n",
       "      <td>United Kingdom</td>\n",
       "    </tr>\n",
       "    <tr>\n",
       "      <th>437998</th>\n",
       "      <td>574302</td>\n",
       "      <td>22584</td>\n",
       "      <td>PACK OF 6 PANNETONE GIFT BOXES</td>\n",
       "      <td>6</td>\n",
       "      <td>2011-03-11 16:28:00</td>\n",
       "      <td>2.55</td>\n",
       "      <td>13914.0</td>\n",
       "      <td>United Kingdom</td>\n",
       "    </tr>\n",
       "    <tr>\n",
       "      <th>466757</th>\n",
       "      <td>576329</td>\n",
       "      <td>22596</td>\n",
       "      <td>CHRISTMAS STAR WISH LIST CHALKBOARD</td>\n",
       "      <td>2</td>\n",
       "      <td>2011-11-14 15:22:00</td>\n",
       "      <td>2.46</td>\n",
       "      <td>NaN</td>\n",
       "      <td>United Kingdom</td>\n",
       "    </tr>\n",
       "    <tr>\n",
       "      <th>510372</th>\n",
       "      <td>579449</td>\n",
       "      <td>22197</td>\n",
       "      <td>POPCORN HOLDER</td>\n",
       "      <td>100</td>\n",
       "      <td>2011-11-29 13:57:00</td>\n",
       "      <td>0.72</td>\n",
       "      <td>17101.0</td>\n",
       "      <td>United Kingdom</td>\n",
       "    </tr>\n",
       "    <tr>\n",
       "      <th>136931</th>\n",
       "      <td>548006</td>\n",
       "      <td>85099B</td>\n",
       "      <td>JUMBO BAG RED RETROSPOT</td>\n",
       "      <td>20</td>\n",
       "      <td>2011-03-29 10:50:00</td>\n",
       "      <td>1.95</td>\n",
       "      <td>18226.0</td>\n",
       "      <td>United Kingdom</td>\n",
       "    </tr>\n",
       "    <tr>\n",
       "      <th>273827</th>\n",
       "      <td>560862</td>\n",
       "      <td>82600</td>\n",
       "      <td>NO SINGING METAL SIGN</td>\n",
       "      <td>1</td>\n",
       "      <td>2011-07-21 13:48:00</td>\n",
       "      <td>2.10</td>\n",
       "      <td>14085.0</td>\n",
       "      <td>United Kingdom</td>\n",
       "    </tr>\n",
       "    <tr>\n",
       "      <th>194397</th>\n",
       "      <td>553576</td>\n",
       "      <td>20717</td>\n",
       "      <td>STRAWBERRY SHOPPER BAG</td>\n",
       "      <td>30</td>\n",
       "      <td>2011-05-18 10:29:00</td>\n",
       "      <td>1.25</td>\n",
       "      <td>14282.0</td>\n",
       "      <td>United Kingdom</td>\n",
       "    </tr>\n",
       "    <tr>\n",
       "      <th>541139</th>\n",
       "      <td>581492</td>\n",
       "      <td>23284</td>\n",
       "      <td>DOORMAT KEEP CALM AND COME IN</td>\n",
       "      <td>1</td>\n",
       "      <td>2011-09-12 10:03:00</td>\n",
       "      <td>15.79</td>\n",
       "      <td>NaN</td>\n",
       "      <td>United Kingdom</td>\n",
       "    </tr>\n",
       "    <tr>\n",
       "      <th>120526</th>\n",
       "      <td>546658</td>\n",
       "      <td>21670</td>\n",
       "      <td>BLUE SPOT CERAMIC DRAWER KNOB</td>\n",
       "      <td>12</td>\n",
       "      <td>2011-03-15 14:21:00</td>\n",
       "      <td>1.25</td>\n",
       "      <td>15150.0</td>\n",
       "      <td>United Kingdom</td>\n",
       "    </tr>\n",
       "    <tr>\n",
       "      <th>432340</th>\n",
       "      <td>573870</td>\n",
       "      <td>22721</td>\n",
       "      <td>SET OF 3 CAKE TINS SKETCHBOOK</td>\n",
       "      <td>1</td>\n",
       "      <td>2011-01-11 12:25:00</td>\n",
       "      <td>4.95</td>\n",
       "      <td>14485.0</td>\n",
       "      <td>United Kingdom</td>\n",
       "    </tr>\n",
       "  </tbody>\n",
       "</table>\n",
       "</div>"
      ],
      "text/plain": [
       "       InvoiceNo StockCode                          Description  Quantity  \\\n",
       "40787     539742     22301         COFFEE MUG CAT + BIRD DESIGN         1   \n",
       "445426    574839     23462             ROCOCO WALL MIRROR WHITE         1   \n",
       "406735    571828     22306   SILVER MUG BONE CHINA TREE OF LIFE        12   \n",
       "462796    576014     23265     SET OF 3 WOODEN TREE DECORATIONS         1   \n",
       "139047    548260     90099  NECKLACE+BRACELET SET BLUE HIBISCUS         4   \n",
       "346577    567190     23399        HOME SWEET HOME HANGING HEART        24   \n",
       "437998    574302     22584       PACK OF 6 PANNETONE GIFT BOXES         6   \n",
       "466757    576329     22596  CHRISTMAS STAR WISH LIST CHALKBOARD         2   \n",
       "510372    579449     22197                       POPCORN HOLDER       100   \n",
       "136931    548006    85099B              JUMBO BAG RED RETROSPOT        20   \n",
       "273827    560862     82600                NO SINGING METAL SIGN         1   \n",
       "194397    553576     20717               STRAWBERRY SHOPPER BAG        30   \n",
       "541139    581492     23284        DOORMAT KEEP CALM AND COME IN         1   \n",
       "120526    546658     21670        BLUE SPOT CERAMIC DRAWER KNOB        12   \n",
       "432340    573870     22721        SET OF 3 CAKE TINS SKETCHBOOK         1   \n",
       "\n",
       "               InvoiceDate  UnitPrice  CustomerID         Country  \n",
       "40787  2010-12-21 15:20:00       5.06         NaN  United Kingdom  \n",
       "445426 2011-07-11 11:40:00      19.95     15493.0  United Kingdom  \n",
       "406735 2011-10-19 11:52:00       1.06     16440.0  United Kingdom  \n",
       "462796 2011-11-13 14:29:00       1.25     17218.0  United Kingdom  \n",
       "139047 2011-03-30 11:18:00       2.55     15373.0  United Kingdom  \n",
       "346577 2011-09-19 09:14:00       0.85     18226.0  United Kingdom  \n",
       "437998 2011-03-11 16:28:00       2.55     13914.0  United Kingdom  \n",
       "466757 2011-11-14 15:22:00       2.46         NaN  United Kingdom  \n",
       "510372 2011-11-29 13:57:00       0.72     17101.0  United Kingdom  \n",
       "136931 2011-03-29 10:50:00       1.95     18226.0  United Kingdom  \n",
       "273827 2011-07-21 13:48:00       2.10     14085.0  United Kingdom  \n",
       "194397 2011-05-18 10:29:00       1.25     14282.0  United Kingdom  \n",
       "541139 2011-09-12 10:03:00      15.79         NaN  United Kingdom  \n",
       "120526 2011-03-15 14:21:00       1.25     15150.0  United Kingdom  \n",
       "432340 2011-01-11 12:25:00       4.95     14485.0  United Kingdom  "
      ]
     },
     "execution_count": 184,
     "metadata": {},
     "output_type": "execute_result"
    }
   ],
   "source": [
    "tx_data.sample(15)\n",
    "\n"
   ]
  },
  {
   "cell_type": "code",
   "execution_count": 185,
   "id": "cb189cf4",
   "metadata": {},
   "outputs": [],
   "source": [
    "# converting invoice date to handle various input formats\n",
    "tx_data['InvoiceDate'] = pd.to_datetime(tx_data['InvoiceDate'])"
   ]
  },
  {
   "cell_type": "code",
   "execution_count": 174,
   "id": "7c2a5a93",
   "metadata": {},
   "outputs": [
    {
     "name": "stderr",
     "output_type": "stream",
     "text": [
      "C:\\Users\\user\\AppData\\Local\\Temp\\ipykernel_8576\\3195331668.py:1: FutureWarning:\n",
      "\n",
      "Treating datetime data as categorical rather than numeric in `.describe` is deprecated and will be removed in a future version of pandas. Specify `datetime_is_numeric=True` to silence this warning and adopt the future behavior now.\n",
      "\n"
     ]
    },
    {
     "data": {
      "text/plain": [
       "count                  541909\n",
       "unique                  23260\n",
       "top       2011-10-31 14:41:00\n",
       "freq                     1114\n",
       "first     2010-01-12 08:26:00\n",
       "last      2011-12-10 17:19:00\n",
       "Name: InvoiceDate, dtype: object"
      ]
     },
     "execution_count": 174,
     "metadata": {},
     "output_type": "execute_result"
    }
   ],
   "source": [
    "tx_data['InvoiceDate'].describe()"
   ]
  },
  {
   "cell_type": "code",
   "execution_count": 175,
   "id": "7e84f505",
   "metadata": {},
   "outputs": [
    {
     "name": "stdout",
     "output_type": "stream",
     "text": [
      "<class 'pandas.core.frame.DataFrame'>\n",
      "RangeIndex: 541909 entries, 0 to 541908\n",
      "Data columns (total 8 columns):\n",
      " #   Column       Non-Null Count   Dtype         \n",
      "---  ------       --------------   -----         \n",
      " 0   InvoiceNo    541909 non-null  object        \n",
      " 1   StockCode    541909 non-null  object        \n",
      " 2   Description  540455 non-null  object        \n",
      " 3   Quantity     541909 non-null  int64         \n",
      " 4   InvoiceDate  541909 non-null  datetime64[ns]\n",
      " 5   UnitPrice    541909 non-null  float64       \n",
      " 6   CustomerID   406829 non-null  float64       \n",
      " 7   Country      541909 non-null  object        \n",
      "dtypes: datetime64[ns](1), float64(2), int64(1), object(4)\n",
      "memory usage: 33.1+ MB\n"
     ]
    }
   ],
   "source": [
    "#checking dataset\n",
    "tx_data.info()"
   ]
  },
  {
   "cell_type": "code",
   "execution_count": 176,
   "id": "5827a8b1",
   "metadata": {},
   "outputs": [
    {
     "data": {
      "text/html": [
       "<div>\n",
       "<style scoped>\n",
       "    .dataframe tbody tr th:only-of-type {\n",
       "        vertical-align: middle;\n",
       "    }\n",
       "\n",
       "    .dataframe tbody tr th {\n",
       "        vertical-align: top;\n",
       "    }\n",
       "\n",
       "    .dataframe thead th {\n",
       "        text-align: right;\n",
       "    }\n",
       "</style>\n",
       "<table border=\"1\" class=\"dataframe\">\n",
       "  <thead>\n",
       "    <tr style=\"text-align: right;\">\n",
       "      <th></th>\n",
       "      <th>Quantity</th>\n",
       "      <th>UnitPrice</th>\n",
       "      <th>CustomerID</th>\n",
       "    </tr>\n",
       "  </thead>\n",
       "  <tbody>\n",
       "    <tr>\n",
       "      <th>count</th>\n",
       "      <td>541909.000000</td>\n",
       "      <td>541909.000000</td>\n",
       "      <td>406829.000000</td>\n",
       "    </tr>\n",
       "    <tr>\n",
       "      <th>mean</th>\n",
       "      <td>9.552250</td>\n",
       "      <td>4.611114</td>\n",
       "      <td>15287.690570</td>\n",
       "    </tr>\n",
       "    <tr>\n",
       "      <th>std</th>\n",
       "      <td>218.081158</td>\n",
       "      <td>96.759853</td>\n",
       "      <td>1713.600303</td>\n",
       "    </tr>\n",
       "    <tr>\n",
       "      <th>min</th>\n",
       "      <td>-80995.000000</td>\n",
       "      <td>-11062.060000</td>\n",
       "      <td>12346.000000</td>\n",
       "    </tr>\n",
       "    <tr>\n",
       "      <th>25%</th>\n",
       "      <td>1.000000</td>\n",
       "      <td>1.250000</td>\n",
       "      <td>13953.000000</td>\n",
       "    </tr>\n",
       "    <tr>\n",
       "      <th>50%</th>\n",
       "      <td>3.000000</td>\n",
       "      <td>2.080000</td>\n",
       "      <td>15152.000000</td>\n",
       "    </tr>\n",
       "    <tr>\n",
       "      <th>75%</th>\n",
       "      <td>10.000000</td>\n",
       "      <td>4.130000</td>\n",
       "      <td>16791.000000</td>\n",
       "    </tr>\n",
       "    <tr>\n",
       "      <th>max</th>\n",
       "      <td>80995.000000</td>\n",
       "      <td>38970.000000</td>\n",
       "      <td>18287.000000</td>\n",
       "    </tr>\n",
       "  </tbody>\n",
       "</table>\n",
       "</div>"
      ],
      "text/plain": [
       "            Quantity      UnitPrice     CustomerID\n",
       "count  541909.000000  541909.000000  406829.000000\n",
       "mean        9.552250       4.611114   15287.690570\n",
       "std       218.081158      96.759853    1713.600303\n",
       "min    -80995.000000  -11062.060000   12346.000000\n",
       "25%         1.000000       1.250000   13953.000000\n",
       "50%         3.000000       2.080000   15152.000000\n",
       "75%        10.000000       4.130000   16791.000000\n",
       "max     80995.000000   38970.000000   18287.000000"
      ]
     },
     "execution_count": 176,
     "metadata": {},
     "output_type": "execute_result"
    }
   ],
   "source": [
    "tx_data.describe()"
   ]
  },
  {
   "cell_type": "markdown",
   "id": "dd1ee28a",
   "metadata": {},
   "source": [
    "customer id & description columns have null values\n",
    "\n",
    "\n",
    "\n",
    "performing Exploratory data analysis (EDA)"
   ]
  },
  {
   "cell_type": "code",
   "execution_count": 177,
   "id": "94a540d7",
   "metadata": {},
   "outputs": [
    {
     "name": "stdout",
     "output_type": "stream",
     "text": [
      "Number of missing values in the dataset: InvoiceNo           0\n",
      "StockCode           0\n",
      "Description      1454\n",
      "Quantity            0\n",
      "InvoiceDate         0\n",
      "UnitPrice           0\n",
      "CustomerID     135080\n",
      "Country             0\n",
      "dtype: int64\n",
      "Percentage of missing values in the dataset: 3.812780721125867\n"
     ]
    }
   ],
   "source": [
    "# checking for null values\n",
    "print('Number of missing values in the dataset:', tx_data.isnull().sum())\n",
    "print('Percentage of missing values in the dataset:', tx_data.isnull().sum().sum()*100/(df.shape[0]*df.shape[1]))"
   ]
  },
  {
   "cell_type": "code",
   "execution_count": 178,
   "id": "9779b74a",
   "metadata": {},
   "outputs": [
    {
     "data": {
      "text/plain": [
       "5268"
      ]
     },
     "execution_count": 178,
     "metadata": {},
     "output_type": "execute_result"
    }
   ],
   "source": [
    "# checking for duplicate values\n",
    "tx_data.duplicated().sum()"
   ]
  },
  {
   "cell_type": "code",
   "execution_count": 179,
   "id": "935b895c",
   "metadata": {},
   "outputs": [
    {
     "data": {
      "text/html": [
       "<div>\n",
       "<style scoped>\n",
       "    .dataframe tbody tr th:only-of-type {\n",
       "        vertical-align: middle;\n",
       "    }\n",
       "\n",
       "    .dataframe tbody tr th {\n",
       "        vertical-align: top;\n",
       "    }\n",
       "\n",
       "    .dataframe thead th {\n",
       "        text-align: right;\n",
       "    }\n",
       "</style>\n",
       "<table border=\"1\" class=\"dataframe\">\n",
       "  <thead>\n",
       "    <tr style=\"text-align: right;\">\n",
       "      <th></th>\n",
       "      <th>InvoiceNo</th>\n",
       "      <th>StockCode</th>\n",
       "      <th>Description</th>\n",
       "      <th>Quantity</th>\n",
       "      <th>InvoiceDate</th>\n",
       "      <th>UnitPrice</th>\n",
       "      <th>CustomerID</th>\n",
       "      <th>Country</th>\n",
       "    </tr>\n",
       "  </thead>\n",
       "  <tbody>\n",
       "    <tr>\n",
       "      <th>517</th>\n",
       "      <td>536409</td>\n",
       "      <td>21866</td>\n",
       "      <td>UNION JACK FLAG LUGGAGE TAG</td>\n",
       "      <td>1</td>\n",
       "      <td>2010-01-12 11:45:00</td>\n",
       "      <td>1.25</td>\n",
       "      <td>17908.0</td>\n",
       "      <td>United Kingdom</td>\n",
       "    </tr>\n",
       "    <tr>\n",
       "      <th>527</th>\n",
       "      <td>536409</td>\n",
       "      <td>22866</td>\n",
       "      <td>HAND WARMER SCOTTY DOG DESIGN</td>\n",
       "      <td>1</td>\n",
       "      <td>2010-01-12 11:45:00</td>\n",
       "      <td>2.10</td>\n",
       "      <td>17908.0</td>\n",
       "      <td>United Kingdom</td>\n",
       "    </tr>\n",
       "    <tr>\n",
       "      <th>537</th>\n",
       "      <td>536409</td>\n",
       "      <td>22900</td>\n",
       "      <td>SET 2 TEA TOWELS I LOVE LONDON</td>\n",
       "      <td>1</td>\n",
       "      <td>2010-01-12 11:45:00</td>\n",
       "      <td>2.95</td>\n",
       "      <td>17908.0</td>\n",
       "      <td>United Kingdom</td>\n",
       "    </tr>\n",
       "    <tr>\n",
       "      <th>539</th>\n",
       "      <td>536409</td>\n",
       "      <td>22111</td>\n",
       "      <td>SCOTTIE DOG HOT WATER BOTTLE</td>\n",
       "      <td>1</td>\n",
       "      <td>2010-01-12 11:45:00</td>\n",
       "      <td>4.95</td>\n",
       "      <td>17908.0</td>\n",
       "      <td>United Kingdom</td>\n",
       "    </tr>\n",
       "    <tr>\n",
       "      <th>555</th>\n",
       "      <td>536412</td>\n",
       "      <td>22327</td>\n",
       "      <td>ROUND SNACK BOXES SET OF 4 SKULLS</td>\n",
       "      <td>1</td>\n",
       "      <td>2010-01-12 11:49:00</td>\n",
       "      <td>2.95</td>\n",
       "      <td>17920.0</td>\n",
       "      <td>United Kingdom</td>\n",
       "    </tr>\n",
       "    <tr>\n",
       "      <th>...</th>\n",
       "      <td>...</td>\n",
       "      <td>...</td>\n",
       "      <td>...</td>\n",
       "      <td>...</td>\n",
       "      <td>...</td>\n",
       "      <td>...</td>\n",
       "      <td>...</td>\n",
       "      <td>...</td>\n",
       "    </tr>\n",
       "    <tr>\n",
       "      <th>541675</th>\n",
       "      <td>581538</td>\n",
       "      <td>22068</td>\n",
       "      <td>BLACK PIRATE TREASURE CHEST</td>\n",
       "      <td>1</td>\n",
       "      <td>2011-09-12 11:34:00</td>\n",
       "      <td>0.39</td>\n",
       "      <td>14446.0</td>\n",
       "      <td>United Kingdom</td>\n",
       "    </tr>\n",
       "    <tr>\n",
       "      <th>541689</th>\n",
       "      <td>581538</td>\n",
       "      <td>23318</td>\n",
       "      <td>BOX OF 6 MINI VINTAGE CRACKERS</td>\n",
       "      <td>1</td>\n",
       "      <td>2011-09-12 11:34:00</td>\n",
       "      <td>2.49</td>\n",
       "      <td>14446.0</td>\n",
       "      <td>United Kingdom</td>\n",
       "    </tr>\n",
       "    <tr>\n",
       "      <th>541692</th>\n",
       "      <td>581538</td>\n",
       "      <td>22992</td>\n",
       "      <td>REVOLVER WOODEN RULER</td>\n",
       "      <td>1</td>\n",
       "      <td>2011-09-12 11:34:00</td>\n",
       "      <td>1.95</td>\n",
       "      <td>14446.0</td>\n",
       "      <td>United Kingdom</td>\n",
       "    </tr>\n",
       "    <tr>\n",
       "      <th>541699</th>\n",
       "      <td>581538</td>\n",
       "      <td>22694</td>\n",
       "      <td>WICKER STAR</td>\n",
       "      <td>1</td>\n",
       "      <td>2011-09-12 11:34:00</td>\n",
       "      <td>2.10</td>\n",
       "      <td>14446.0</td>\n",
       "      <td>United Kingdom</td>\n",
       "    </tr>\n",
       "    <tr>\n",
       "      <th>541701</th>\n",
       "      <td>581538</td>\n",
       "      <td>23343</td>\n",
       "      <td>JUMBO BAG VINTAGE CHRISTMAS</td>\n",
       "      <td>1</td>\n",
       "      <td>2011-09-12 11:34:00</td>\n",
       "      <td>2.08</td>\n",
       "      <td>14446.0</td>\n",
       "      <td>United Kingdom</td>\n",
       "    </tr>\n",
       "  </tbody>\n",
       "</table>\n",
       "<p>5268 rows × 8 columns</p>\n",
       "</div>"
      ],
      "text/plain": [
       "       InvoiceNo StockCode                        Description  Quantity  \\\n",
       "517       536409     21866        UNION JACK FLAG LUGGAGE TAG         1   \n",
       "527       536409     22866      HAND WARMER SCOTTY DOG DESIGN         1   \n",
       "537       536409     22900    SET 2 TEA TOWELS I LOVE LONDON          1   \n",
       "539       536409     22111       SCOTTIE DOG HOT WATER BOTTLE         1   \n",
       "555       536412     22327  ROUND SNACK BOXES SET OF 4 SKULLS         1   \n",
       "...          ...       ...                                ...       ...   \n",
       "541675    581538     22068        BLACK PIRATE TREASURE CHEST         1   \n",
       "541689    581538     23318     BOX OF 6 MINI VINTAGE CRACKERS         1   \n",
       "541692    581538     22992             REVOLVER WOODEN RULER          1   \n",
       "541699    581538     22694                       WICKER STAR          1   \n",
       "541701    581538     23343       JUMBO BAG VINTAGE CHRISTMAS          1   \n",
       "\n",
       "               InvoiceDate  UnitPrice  CustomerID         Country  \n",
       "517    2010-01-12 11:45:00       1.25     17908.0  United Kingdom  \n",
       "527    2010-01-12 11:45:00       2.10     17908.0  United Kingdom  \n",
       "537    2010-01-12 11:45:00       2.95     17908.0  United Kingdom  \n",
       "539    2010-01-12 11:45:00       4.95     17908.0  United Kingdom  \n",
       "555    2010-01-12 11:49:00       2.95     17920.0  United Kingdom  \n",
       "...                    ...        ...         ...             ...  \n",
       "541675 2011-09-12 11:34:00       0.39     14446.0  United Kingdom  \n",
       "541689 2011-09-12 11:34:00       2.49     14446.0  United Kingdom  \n",
       "541692 2011-09-12 11:34:00       1.95     14446.0  United Kingdom  \n",
       "541699 2011-09-12 11:34:00       2.10     14446.0  United Kingdom  \n",
       "541701 2011-09-12 11:34:00       2.08     14446.0  United Kingdom  \n",
       "\n",
       "[5268 rows x 8 columns]"
      ]
     },
     "execution_count": 179,
     "metadata": {},
     "output_type": "execute_result"
    }
   ],
   "source": [
    "# getting the duplicated values\n",
    "duplicates= tx_data[tx_data.duplicated()]\n",
    "duplicates[:]"
   ]
  },
  {
   "cell_type": "markdown",
   "id": "2b644368",
   "metadata": {},
   "source": [
    "customer id column and invoice number column have duplicates"
   ]
  },
  {
   "cell_type": "code",
   "execution_count": 186,
   "id": "de1e3c9f",
   "metadata": {},
   "outputs": [
    {
     "name": "stdout",
     "output_type": "stream",
     "text": [
      "2010-01-12 08:26:00\n",
      "2011-12-10 17:19:00\n"
     ]
    }
   ],
   "source": [
    "#Period of time when purchases was made\n",
    "print(tx_data['InvoiceDate'].min())\n",
    "print(tx_data['InvoiceDate'].max())"
   ]
  },
  {
   "cell_type": "markdown",
   "id": "bd7f321d",
   "metadata": {},
   "source": [
    "the time span across which our dataset lies is a little less than a year"
   ]
  },
  {
   "cell_type": "code",
   "execution_count": 187,
   "id": "24b4130c",
   "metadata": {},
   "outputs": [
    {
     "data": {
      "text/plain": [
       "StockCode  Description                         Country       \n",
       "85123A     WHITE HANGING HEART T-LIGHT HOLDER  United Kingdom    2204\n",
       "85099B     JUMBO BAG RED RETROSPOT             United Kingdom    2001\n",
       "22423      REGENCY CAKESTAND 3 TIER            United Kingdom    1859\n",
       "47566      PARTY BUNTING                       United Kingdom    1634\n",
       "20725      LUNCH BAG RED RETROSPOT             United Kingdom    1460\n",
       "                                                                 ... \n",
       "22674      FRENCH TOILET SIGN BLUE METAL       Germany              1\n",
       "22675      FRENCH KITCHEN SIGN BLUE METAL      Finland              1\n",
       "                                               Poland               1\n",
       "                                               Switzerland          1\n",
       "m          Manual                              United Kingdom       1\n",
       "Length: 20755, dtype: int64"
      ]
     },
     "execution_count": 187,
     "metadata": {},
     "output_type": "execute_result"
    }
   ],
   "source": [
    "tx_data[[\"StockCode\", \"Description\",\"Country\"]].value_counts()"
   ]
  },
  {
   "cell_type": "code",
   "execution_count": 188,
   "id": "5daf45f0",
   "metadata": {},
   "outputs": [
    {
     "data": {
      "image/png": "[encoded data removed]",
      "text/plain": [
       "<Figure size 432x288 with 1 Axes>"
      ]
     },
     "metadata": {
      "needs_background": "light"
     },
     "output_type": "display_data"
    }
   ],
   "source": [
    "# Let's look at the price distribution of the products\n",
    "\n",
    "plt.hist(data=tx_data, x='UnitPrice', color='yellow')\n",
    "plt.xlabel('Unit price', fontsize=10)\n",
    "plt.ylabel('Count', fontsize=10)\n",
    "plt.title(\"Unit price distribution\", fontsize=15);"
   ]
  },
  {
   "cell_type": "markdown",
   "id": "eb119831",
   "metadata": {},
   "source": [
    "It seems that we have negative values and some outliers representing very expensive products. The negative values may be associated with cancelled or refunded orders. Let's remove them"
   ]
  },
  {
   "cell_type": "code",
   "execution_count": 189,
   "id": "6f1c73de",
   "metadata": {},
   "outputs": [
    {
     "data": {
      "text/plain": [
       "Text(0.5, 1.0, 'Unit price distribution')"
      ]
     },
     "execution_count": 189,
     "metadata": {},
     "output_type": "execute_result"
    },
    {
     "data": {
      "image/png": "[encoded data removed]",
      "text/plain": [
       "<Figure size 432x288 with 1 Axes>"
      ]
     },
     "metadata": {
      "needs_background": "light"
     },
     "output_type": "display_data"
    }
   ],
   "source": [
    "bins = np.arange(0, 20, 2)\n",
    "plt.hist(data=tx_data, x='UnitPrice', bins=bins)\n",
    "plt.xlabel('Unit price', fontsize=14)\n",
    "plt.ylabel('Count', fontsize=14)\n",
    "plt.title('Unit price distribution', fontsize=15)"
   ]
  },
  {
   "cell_type": "code",
   "execution_count": 190,
   "id": "2fcadd20",
   "metadata": {},
   "outputs": [
    {
     "data": {
      "text/html": [
       "<div>\n",
       "<style scoped>\n",
       "    .dataframe tbody tr th:only-of-type {\n",
       "        vertical-align: middle;\n",
       "    }\n",
       "\n",
       "    .dataframe tbody tr th {\n",
       "        vertical-align: top;\n",
       "    }\n",
       "\n",
       "    .dataframe thead th {\n",
       "        text-align: right;\n",
       "    }\n",
       "</style>\n",
       "<table border=\"1\" class=\"dataframe\">\n",
       "  <thead>\n",
       "    <tr style=\"text-align: right;\">\n",
       "      <th></th>\n",
       "      <th>InvoiceNo</th>\n",
       "      <th>StockCode</th>\n",
       "      <th>Description</th>\n",
       "      <th>Quantity</th>\n",
       "      <th>InvoiceDate</th>\n",
       "      <th>UnitPrice</th>\n",
       "      <th>CustomerID</th>\n",
       "      <th>Country</th>\n",
       "    </tr>\n",
       "  </thead>\n",
       "  <tbody>\n",
       "    <tr>\n",
       "      <th>299983</th>\n",
       "      <td>A563186</td>\n",
       "      <td>B</td>\n",
       "      <td>Adjust bad debt</td>\n",
       "      <td>1</td>\n",
       "      <td>2011-12-08 14:51:00</td>\n",
       "      <td>-11062.06</td>\n",
       "      <td>NaN</td>\n",
       "      <td>United Kingdom</td>\n",
       "    </tr>\n",
       "    <tr>\n",
       "      <th>299984</th>\n",
       "      <td>A563187</td>\n",
       "      <td>B</td>\n",
       "      <td>Adjust bad debt</td>\n",
       "      <td>1</td>\n",
       "      <td>2011-12-08 14:52:00</td>\n",
       "      <td>-11062.06</td>\n",
       "      <td>NaN</td>\n",
       "      <td>United Kingdom</td>\n",
       "    </tr>\n",
       "  </tbody>\n",
       "</table>\n",
       "</div>"
      ],
      "text/plain": [
       "       InvoiceNo StockCode      Description  Quantity         InvoiceDate  \\\n",
       "299983   A563186         B  Adjust bad debt         1 2011-12-08 14:51:00   \n",
       "299984   A563187         B  Adjust bad debt         1 2011-12-08 14:52:00   \n",
       "\n",
       "        UnitPrice  CustomerID         Country  \n",
       "299983  -11062.06         NaN  United Kingdom  \n",
       "299984  -11062.06         NaN  United Kingdom  "
      ]
     },
     "execution_count": 190,
     "metadata": {},
     "output_type": "execute_result"
    }
   ],
   "source": [
    "#The price for most of the products is equal or less than 10euros\n",
    "\n",
    "#L3et's look at the negative values in UnitPrice now\n",
    "\n",
    "tx_data[tx_data['UnitPrice'] < 0]"
   ]
  },
  {
   "cell_type": "code",
   "execution_count": 191,
   "id": "33818aa5",
   "metadata": {},
   "outputs": [
    {
     "data": {
      "image/png": "[encoded data removed]",
      "text/plain": [
       "<Figure size 432x288 with 1 Axes>"
      ]
     },
     "metadata": {
      "needs_background": "light"
     },
     "output_type": "display_data"
    }
   ],
   "source": [
    "# Let's look at the quantity of the products\n",
    "\n",
    "plt.hist(data=tx_data, x='Quantity', color='cyan')\n",
    "plt.xlabel('Quantity', fontsize=14)\n",
    "plt.ylabel('Count', fontsize=14)\n",
    "plt.title(\"Distribution of quantity of products\", fontsize=16);"
   ]
  },
  {
   "cell_type": "code",
   "execution_count": 192,
   "id": "013c9bd5",
   "metadata": {},
   "outputs": [
    {
     "data": {
      "image/png": "[encoded data removed]",
      "text/plain": [
       "<Figure size 432x288 with 1 Axes>"
      ]
     },
     "metadata": {
      "needs_background": "light"
     },
     "output_type": "display_data"
    }
   ],
   "source": [
    "bins = np.arange(0, 100, 10)\n",
    "plt.hist(data=tx_data, x='Quantity', bins=bins, color='pink')\n",
    "plt.xlabel('Quantity', fontsize=14)\n",
    "plt.ylabel('Count', fontsize=14)\n",
    "plt.title('Distribution of quantity of products', fontsize=16);"
   ]
  },
  {
   "cell_type": "markdown",
   "id": "9e034ed5",
   "metadata": {},
   "source": [
    "In most cases customers buy less than 50 items per order, maximum lying between 0 to 10\n"
   ]
  },
  {
   "cell_type": "code",
   "execution_count": 193,
   "id": "f36e648d",
   "metadata": {},
   "outputs": [
    {
     "data": {
      "text/plain": [
       "(406829, 8)"
      ]
     },
     "execution_count": 193,
     "metadata": {},
     "output_type": "execute_result"
    }
   ],
   "source": [
    "#dropping null values as we need to predict lifetime value for each customer\n",
    "tx_data.dropna(subset=['CustomerID'], inplace=True)\n",
    "tx_data.shape"
   ]
  },
  {
   "cell_type": "code",
   "execution_count": 194,
   "id": "01c0cdff",
   "metadata": {},
   "outputs": [
    {
     "data": {
      "text/plain": [
       "0"
      ]
     },
     "execution_count": 194,
     "metadata": {},
     "output_type": "execute_result"
    }
   ],
   "source": [
    "tx_data['CustomerID'].isnull().sum() #checking null values now"
   ]
  },
  {
   "cell_type": "code",
   "execution_count": 195,
   "id": "f08ac94e",
   "metadata": {
    "scrolled": true
   },
   "outputs": [
    {
     "data": {
      "text/html": [
       "<div>\n",
       "<style scoped>\n",
       "    .dataframe tbody tr th:only-of-type {\n",
       "        vertical-align: middle;\n",
       "    }\n",
       "\n",
       "    .dataframe tbody tr th {\n",
       "        vertical-align: top;\n",
       "    }\n",
       "\n",
       "    .dataframe thead th {\n",
       "        text-align: right;\n",
       "    }\n",
       "</style>\n",
       "<table border=\"1\" class=\"dataframe\">\n",
       "  <thead>\n",
       "    <tr style=\"text-align: right;\">\n",
       "      <th></th>\n",
       "      <th>InvoiceNo</th>\n",
       "      <th>StockCode</th>\n",
       "      <th>Description</th>\n",
       "      <th>Quantity</th>\n",
       "      <th>InvoiceDate</th>\n",
       "      <th>UnitPrice</th>\n",
       "      <th>CustomerID</th>\n",
       "      <th>Country</th>\n",
       "    </tr>\n",
       "  </thead>\n",
       "  <tbody>\n",
       "    <tr>\n",
       "      <th>381429</th>\n",
       "      <td>569866</td>\n",
       "      <td>22577</td>\n",
       "      <td>WOODEN HEART CHRISTMAS SCANDINAVIAN</td>\n",
       "      <td>1</td>\n",
       "      <td>2011-06-10 14:50:00</td>\n",
       "      <td>0.29</td>\n",
       "      <td>12757.0</td>\n",
       "      <td>Portugal</td>\n",
       "    </tr>\n",
       "    <tr>\n",
       "      <th>388843</th>\n",
       "      <td>570458</td>\n",
       "      <td>23507</td>\n",
       "      <td>MINI PLAYING CARDS BUFFALO BILL</td>\n",
       "      <td>3</td>\n",
       "      <td>2011-10-10 15:39:00</td>\n",
       "      <td>0.42</td>\n",
       "      <td>14535.0</td>\n",
       "      <td>United Kingdom</td>\n",
       "    </tr>\n",
       "    <tr>\n",
       "      <th>345134</th>\n",
       "      <td>567145</td>\n",
       "      <td>23254</td>\n",
       "      <td>CHILDRENS CUTLERY DOLLY GIRL</td>\n",
       "      <td>4</td>\n",
       "      <td>2011-09-16 15:09:00</td>\n",
       "      <td>4.15</td>\n",
       "      <td>12921.0</td>\n",
       "      <td>United Kingdom</td>\n",
       "    </tr>\n",
       "    <tr>\n",
       "      <th>527699</th>\n",
       "      <td>580727</td>\n",
       "      <td>22086</td>\n",
       "      <td>PAPER CHAIN KIT 50'S CHRISTMAS</td>\n",
       "      <td>18</td>\n",
       "      <td>2011-05-12 17:17:00</td>\n",
       "      <td>5.79</td>\n",
       "      <td>14096.0</td>\n",
       "      <td>United Kingdom</td>\n",
       "    </tr>\n",
       "    <tr>\n",
       "      <th>206266</th>\n",
       "      <td>554920</td>\n",
       "      <td>23163</td>\n",
       "      <td>REGENCY SUGAR TONGS</td>\n",
       "      <td>8</td>\n",
       "      <td>2011-05-27 12:41:00</td>\n",
       "      <td>2.49</td>\n",
       "      <td>16275.0</td>\n",
       "      <td>United Kingdom</td>\n",
       "    </tr>\n",
       "  </tbody>\n",
       "</table>\n",
       "</div>"
      ],
      "text/plain": [
       "       InvoiceNo StockCode                          Description  Quantity  \\\n",
       "381429    569866     22577  WOODEN HEART CHRISTMAS SCANDINAVIAN         1   \n",
       "388843    570458     23507     MINI PLAYING CARDS BUFFALO BILL          3   \n",
       "345134    567145     23254        CHILDRENS CUTLERY DOLLY GIRL          4   \n",
       "527699    580727     22086      PAPER CHAIN KIT 50'S CHRISTMAS         18   \n",
       "206266    554920     23163                  REGENCY SUGAR TONGS         8   \n",
       "\n",
       "               InvoiceDate  UnitPrice  CustomerID         Country  \n",
       "381429 2011-06-10 14:50:00       0.29     12757.0        Portugal  \n",
       "388843 2011-10-10 15:39:00       0.42     14535.0  United Kingdom  \n",
       "345134 2011-09-16 15:09:00       4.15     12921.0  United Kingdom  \n",
       "527699 2011-05-12 17:17:00       5.79     14096.0  United Kingdom  \n",
       "206266 2011-05-27 12:41:00       2.49     16275.0  United Kingdom  "
      ]
     },
     "execution_count": 195,
     "metadata": {},
     "output_type": "execute_result"
    }
   ],
   "source": [
    "tx_data.sample(5)"
   ]
  },
  {
   "cell_type": "code",
   "execution_count": 196,
   "id": "24354bc5",
   "metadata": {},
   "outputs": [
    {
     "data": {
      "text/plain": [
       "United Kingdom          361878\n",
       "Germany                   9495\n",
       "France                    8491\n",
       "EIRE                      7485\n",
       "Spain                     2533\n",
       "Netherlands               2371\n",
       "Belgium                   2069\n",
       "Switzerland               1877\n",
       "Portugal                  1480\n",
       "Australia                 1259\n",
       "Norway                    1086\n",
       "Italy                      803\n",
       "Channel Islands            758\n",
       "Finland                    695\n",
       "Cyprus                     622\n",
       "Sweden                     462\n",
       "Austria                    401\n",
       "Denmark                    389\n",
       "Japan                      358\n",
       "Poland                     341\n",
       "USA                        291\n",
       "Israel                     250\n",
       "Unspecified                244\n",
       "Singapore                  229\n",
       "Iceland                    182\n",
       "Canada                     151\n",
       "Greece                     146\n",
       "Malta                      127\n",
       "United Arab Emirates        68\n",
       "European Community          61\n",
       "RSA                         58\n",
       "Lebanon                     45\n",
       "Lithuania                   35\n",
       "Brazil                      32\n",
       "Czech Republic              30\n",
       "Bahrain                     17\n",
       "Saudi Arabia                10\n",
       "Name: Country, dtype: int64"
      ]
     },
     "execution_count": 196,
     "metadata": {},
     "output_type": "execute_result"
    }
   ],
   "source": [
    "#seeing various countries included in our dataset\n",
    "\n",
    "tx_data['Country'].value_counts()"
   ]
  },
  {
   "cell_type": "markdown",
   "id": "88e2598a",
   "metadata": {},
   "source": [
    "United Kingdom dominates as it has maximum entries. Thus, we will now perform various operations for united kingdom only."
   ]
  },
  {
   "cell_type": "code",
   "execution_count": 197,
   "id": "d712c4d3",
   "metadata": {},
   "outputs": [],
   "source": [
    "tx_uk = tx_data.query(\"Country=='United Kingdom'\").reset_index(drop=True)\n"
   ]
  },
  {
   "cell_type": "code",
   "execution_count": 198,
   "id": "1da48830",
   "metadata": {},
   "outputs": [
    {
     "data": {
      "text/plain": [
       "(361878, 8)"
      ]
     },
     "execution_count": 198,
     "metadata": {},
     "output_type": "execute_result"
    }
   ],
   "source": [
    "tx_data.shape\n",
    "tx_uk.shape"
   ]
  },
  {
   "cell_type": "markdown",
   "id": "9ee97539",
   "metadata": {},
   "source": [
    "creating  a new  user dataframe to keep CustomerID and new segmentation scores"
   ]
  },
  {
   "cell_type": "code",
   "execution_count": 199,
   "id": "2a00bf3a",
   "metadata": {},
   "outputs": [
    {
     "data": {
      "text/html": [
       "<div>\n",
       "<style scoped>\n",
       "    .dataframe tbody tr th:only-of-type {\n",
       "        vertical-align: middle;\n",
       "    }\n",
       "\n",
       "    .dataframe tbody tr th {\n",
       "        vertical-align: top;\n",
       "    }\n",
       "\n",
       "    .dataframe thead th {\n",
       "        text-align: right;\n",
       "    }\n",
       "</style>\n",
       "<table border=\"1\" class=\"dataframe\">\n",
       "  <thead>\n",
       "    <tr style=\"text-align: right;\">\n",
       "      <th></th>\n",
       "      <th>CustomerID</th>\n",
       "    </tr>\n",
       "  </thead>\n",
       "  <tbody>\n",
       "    <tr>\n",
       "      <th>0</th>\n",
       "      <td>17850.0</td>\n",
       "    </tr>\n",
       "    <tr>\n",
       "      <th>1</th>\n",
       "      <td>13047.0</td>\n",
       "    </tr>\n",
       "    <tr>\n",
       "      <th>2</th>\n",
       "      <td>12583.0</td>\n",
       "    </tr>\n",
       "    <tr>\n",
       "      <th>3</th>\n",
       "      <td>13748.0</td>\n",
       "    </tr>\n",
       "    <tr>\n",
       "      <th>4</th>\n",
       "      <td>15100.0</td>\n",
       "    </tr>\n",
       "  </tbody>\n",
       "</table>\n",
       "</div>"
      ],
      "text/plain": [
       "   CustomerID\n",
       "0     17850.0\n",
       "1     13047.0\n",
       "2     12583.0\n",
       "3     13748.0\n",
       "4     15100.0"
      ]
     },
     "execution_count": 199,
     "metadata": {},
     "output_type": "execute_result"
    }
   ],
   "source": [
    "tx_user = pd.DataFrame(tx_data['CustomerID'].unique())\n",
    "tx_user.columns = ['CustomerID']\n",
    "tx_user.head()"
   ]
  },
  {
   "cell_type": "markdown",
   "id": "482dc867",
   "metadata": {},
   "source": [
    "getting max purchase date for each customer and creating a dataframe with it"
   ]
  },
  {
   "cell_type": "code",
   "execution_count": 200,
   "id": "170b064a",
   "metadata": {},
   "outputs": [
    {
     "data": {
      "text/html": [
       "<div>\n",
       "<style scoped>\n",
       "    .dataframe tbody tr th:only-of-type {\n",
       "        vertical-align: middle;\n",
       "    }\n",
       "\n",
       "    .dataframe tbody tr th {\n",
       "        vertical-align: top;\n",
       "    }\n",
       "\n",
       "    .dataframe thead th {\n",
       "        text-align: right;\n",
       "    }\n",
       "</style>\n",
       "<table border=\"1\" class=\"dataframe\">\n",
       "  <thead>\n",
       "    <tr style=\"text-align: right;\">\n",
       "      <th></th>\n",
       "      <th>CustomerID</th>\n",
       "      <th>MaxPurchaseDate</th>\n",
       "    </tr>\n",
       "  </thead>\n",
       "  <tbody>\n",
       "    <tr>\n",
       "      <th>0</th>\n",
       "      <td>12346.0</td>\n",
       "      <td>2011-01-18 10:17:00</td>\n",
       "    </tr>\n",
       "    <tr>\n",
       "      <th>1</th>\n",
       "      <td>12747.0</td>\n",
       "      <td>2011-11-17 17:13:00</td>\n",
       "    </tr>\n",
       "    <tr>\n",
       "      <th>2</th>\n",
       "      <td>12748.0</td>\n",
       "      <td>2011-12-05 18:58:00</td>\n",
       "    </tr>\n",
       "    <tr>\n",
       "      <th>3</th>\n",
       "      <td>12749.0</td>\n",
       "      <td>2011-11-17 12:05:00</td>\n",
       "    </tr>\n",
       "    <tr>\n",
       "      <th>4</th>\n",
       "      <td>12820.0</td>\n",
       "      <td>2011-10-26 13:27:00</td>\n",
       "    </tr>\n",
       "  </tbody>\n",
       "</table>\n",
       "</div>"
      ],
      "text/plain": [
       "   CustomerID     MaxPurchaseDate\n",
       "0     12346.0 2011-01-18 10:17:00\n",
       "1     12747.0 2011-11-17 17:13:00\n",
       "2     12748.0 2011-12-05 18:58:00\n",
       "3     12749.0 2011-11-17 12:05:00\n",
       "4     12820.0 2011-10-26 13:27:00"
      ]
     },
     "execution_count": 200,
     "metadata": {},
     "output_type": "execute_result"
    }
   ],
   "source": [
    "tx_max_purchase = tx_uk.groupby('CustomerID').InvoiceDate.max().reset_index()\n",
    "tx_max_purchase.columns = ['CustomerID','MaxPurchaseDate']\n",
    "tx_max_purchase.head()"
   ]
  },
  {
   "cell_type": "markdown",
   "id": "041ed0f5",
   "metadata": {},
   "source": [
    "# recency"
   ]
  },
  {
   "cell_type": "code",
   "execution_count": 201,
   "id": "a0c9e6e2",
   "metadata": {},
   "outputs": [
    {
     "data": {
      "text/plain": [
       "Timestamp('2011-12-10 17:19:00')"
      ]
     },
     "execution_count": 201,
     "metadata": {},
     "output_type": "execute_result"
    }
   ],
   "source": [
    "tx_max_purchase['MaxPurchaseDate'].max() # 'latest or maximum invoice date' of entire dataset is taken as our observation point"
   ]
  },
  {
   "cell_type": "code",
   "execution_count": 202,
   "id": "c43171cf",
   "metadata": {},
   "outputs": [],
   "source": [
    "tx_max_purchase['Recency'] = (tx_max_purchase['MaxPurchaseDate'].max() - tx_max_purchase['MaxPurchaseDate']).dt.days \n",
    "# calculating recency value of each customer by subtracting their lastest invoice date from max invoice date "
   ]
  },
  {
   "cell_type": "code",
   "execution_count": 203,
   "id": "f3fdf3c3",
   "metadata": {},
   "outputs": [
    {
     "data": {
      "text/html": [
       "<div>\n",
       "<style scoped>\n",
       "    .dataframe tbody tr th:only-of-type {\n",
       "        vertical-align: middle;\n",
       "    }\n",
       "\n",
       "    .dataframe tbody tr th {\n",
       "        vertical-align: top;\n",
       "    }\n",
       "\n",
       "    .dataframe thead th {\n",
       "        text-align: right;\n",
       "    }\n",
       "</style>\n",
       "<table border=\"1\" class=\"dataframe\">\n",
       "  <thead>\n",
       "    <tr style=\"text-align: right;\">\n",
       "      <th></th>\n",
       "      <th>CustomerID</th>\n",
       "      <th>Recency</th>\n",
       "    </tr>\n",
       "  </thead>\n",
       "  <tbody>\n",
       "    <tr>\n",
       "      <th>0</th>\n",
       "      <td>17850.0</td>\n",
       "      <td>69</td>\n",
       "    </tr>\n",
       "    <tr>\n",
       "      <th>1</th>\n",
       "      <td>13047.0</td>\n",
       "      <td>47</td>\n",
       "    </tr>\n",
       "    <tr>\n",
       "      <th>2</th>\n",
       "      <td>13748.0</td>\n",
       "      <td>159</td>\n",
       "    </tr>\n",
       "    <tr>\n",
       "      <th>3</th>\n",
       "      <td>15100.0</td>\n",
       "      <td>70</td>\n",
       "    </tr>\n",
       "    <tr>\n",
       "      <th>4</th>\n",
       "      <td>15291.0</td>\n",
       "      <td>4</td>\n",
       "    </tr>\n",
       "  </tbody>\n",
       "</table>\n",
       "</div>"
      ],
      "text/plain": [
       "   CustomerID  Recency\n",
       "0     17850.0       69\n",
       "1     13047.0       47\n",
       "2     13748.0      159\n",
       "3     15100.0       70\n",
       "4     15291.0        4"
      ]
     },
     "execution_count": 203,
     "metadata": {},
     "output_type": "execute_result"
    }
   ],
   "source": [
    "#merging this dataframe to our new user dataframe\n",
    "tx_user = pd.merge(tx_user, tx_max_purchase[['CustomerID','Recency']], on='CustomerID')\n",
    "tx_user.head()"
   ]
  },
  {
   "cell_type": "code",
   "execution_count": 204,
   "id": "bd9fd9e4",
   "metadata": {
    "scrolled": false
   },
   "outputs": [
    {
     "data": {
      "image/png": "[encoded data removed]",
      "text/plain": [
       "<Figure size 720x360 with 1 Axes>"
      ]
     },
     "metadata": {
      "needs_background": "light"
     },
     "output_type": "display_data"
    }
   ],
   "source": [
    "\n",
    "\n",
    "plt.figure(figsize=[10,5])\n",
    "\n",
    "# plot histogram\n",
    "plt.hist(tx_user['Recency'])\n",
    "# add formatting\n",
    "plt.xlabel(\"Recency\")\n",
    "plt.title(\"recency score of customers\")\n",
    "plt.show()"
   ]
  },
  {
   "cell_type": "markdown",
   "id": "11d8b919",
   "metadata": {},
   "source": [
    "maximum recency values lie between 0 to 80"
   ]
  },
  {
   "cell_type": "code",
   "execution_count": 52,
   "id": "e36b2bf2",
   "metadata": {},
   "outputs": [
    {
     "data": {
      "text/html": [
       "<div>\n",
       "<style scoped>\n",
       "    .dataframe tbody tr th:only-of-type {\n",
       "        vertical-align: middle;\n",
       "    }\n",
       "\n",
       "    .dataframe tbody tr th {\n",
       "        vertical-align: top;\n",
       "    }\n",
       "\n",
       "    .dataframe thead th {\n",
       "        text-align: right;\n",
       "    }\n",
       "</style>\n",
       "<table border=\"1\" class=\"dataframe\">\n",
       "  <thead>\n",
       "    <tr style=\"text-align: right;\">\n",
       "      <th></th>\n",
       "      <th>CustomerID</th>\n",
       "      <th>Recency</th>\n",
       "    </tr>\n",
       "  </thead>\n",
       "  <tbody>\n",
       "    <tr>\n",
       "      <th>count</th>\n",
       "      <td>3950.000000</td>\n",
       "      <td>3950.000000</td>\n",
       "    </tr>\n",
       "    <tr>\n",
       "      <th>mean</th>\n",
       "      <td>15562.029367</td>\n",
       "      <td>101.376709</td>\n",
       "    </tr>\n",
       "    <tr>\n",
       "      <th>std</th>\n",
       "      <td>1576.848325</td>\n",
       "      <td>114.006823</td>\n",
       "    </tr>\n",
       "    <tr>\n",
       "      <th>min</th>\n",
       "      <td>12346.000000</td>\n",
       "      <td>0.000000</td>\n",
       "    </tr>\n",
       "    <tr>\n",
       "      <th>25%</th>\n",
       "      <td>14208.250000</td>\n",
       "      <td>20.000000</td>\n",
       "    </tr>\n",
       "    <tr>\n",
       "      <th>50%</th>\n",
       "      <td>15571.500000</td>\n",
       "      <td>57.500000</td>\n",
       "    </tr>\n",
       "    <tr>\n",
       "      <th>75%</th>\n",
       "      <td>16913.750000</td>\n",
       "      <td>153.000000</td>\n",
       "    </tr>\n",
       "    <tr>\n",
       "      <th>max</th>\n",
       "      <td>18287.000000</td>\n",
       "      <td>697.000000</td>\n",
       "    </tr>\n",
       "  </tbody>\n",
       "</table>\n",
       "</div>"
      ],
      "text/plain": [
       "         CustomerID      Recency\n",
       "count   3950.000000  3950.000000\n",
       "mean   15562.029367   101.376709\n",
       "std     1576.848325   114.006823\n",
       "min    12346.000000     0.000000\n",
       "25%    14208.250000    20.000000\n",
       "50%    15571.500000    57.500000\n",
       "75%    16913.750000   153.000000\n",
       "max    18287.000000   697.000000"
      ]
     },
     "execution_count": 52,
     "metadata": {},
     "output_type": "execute_result"
    }
   ],
   "source": [
    "tx_user.describe()"
   ]
  },
  {
   "cell_type": "markdown",
   "id": "d282eb89",
   "metadata": {},
   "source": [
    "We see that even though the average is 101 day recency, median is 57.5."
   ]
  },
  {
   "cell_type": "markdown",
   "id": "6a140059",
   "metadata": {},
   "source": [
    "Applying K-means clustering to assign a recency score via Elbow Method below:"
   ]
  },
  {
   "cell_type": "code",
   "execution_count": 104,
   "id": "bf7206a1",
   "metadata": {},
   "outputs": [
    {
     "data": {
      "image/png": "[encoded data removed]",
      "text/plain": [
       "<Figure size 432x288 with 1 Axes>"
      ]
     },
     "metadata": {
      "needs_background": "light"
     },
     "output_type": "display_data"
    }
   ],
   "source": [
    "from sklearn.cluster import KMeans\n",
    "wcss =[]\n",
    "for i in range(1, 11): \n",
    "    kmeans = KMeans(n_clusters = i, init = 'k-means++', random_state = 42)\n",
    "    kmeans.fit(tx_recency) \n",
    "    wcss.append(kmeans.inertia_)\n",
    "    \n",
    "plt.plot(range(1, 11), wcss)\n",
    "plt.xlabel('Number of clusters')\n",
    "plt.ylabel('WCSS') \n",
    "plt.show()"
   ]
  },
  {
   "cell_type": "markdown",
   "id": "8cbd7dd0",
   "metadata": {},
   "source": [
    "Here it looks like 4 is the optimal number of clusters"
   ]
  },
  {
   "cell_type": "code",
   "execution_count": 59,
   "id": "6fcc403f",
   "metadata": {},
   "outputs": [],
   "source": [
    "#building 4 clusters for recency and adding it to dataframe\n",
    "kmeans = KMeans(n_clusters=4)\n",
    "kmeans.fit(tx_user[['Recency']])\n",
    "tx_user['RecencyCluster'] = kmeans.predict(tx_user[['Recency']])"
   ]
  },
  {
   "cell_type": "code",
   "execution_count": 60,
   "id": "3e46b40b",
   "metadata": {},
   "outputs": [
    {
     "data": {
      "text/html": [
       "<div>\n",
       "<style scoped>\n",
       "    .dataframe tbody tr th:only-of-type {\n",
       "        vertical-align: middle;\n",
       "    }\n",
       "\n",
       "    .dataframe tbody tr th {\n",
       "        vertical-align: top;\n",
       "    }\n",
       "\n",
       "    .dataframe thead th {\n",
       "        text-align: right;\n",
       "    }\n",
       "</style>\n",
       "<table border=\"1\" class=\"dataframe\">\n",
       "  <thead>\n",
       "    <tr style=\"text-align: right;\">\n",
       "      <th></th>\n",
       "      <th>count</th>\n",
       "      <th>mean</th>\n",
       "      <th>std</th>\n",
       "      <th>min</th>\n",
       "      <th>25%</th>\n",
       "      <th>50%</th>\n",
       "      <th>75%</th>\n",
       "      <th>max</th>\n",
       "    </tr>\n",
       "    <tr>\n",
       "      <th>RecencyCluster</th>\n",
       "      <th></th>\n",
       "      <th></th>\n",
       "      <th></th>\n",
       "      <th></th>\n",
       "      <th></th>\n",
       "      <th></th>\n",
       "      <th></th>\n",
       "      <th></th>\n",
       "    </tr>\n",
       "  </thead>\n",
       "  <tbody>\n",
       "    <tr>\n",
       "      <th>0</th>\n",
       "      <td>68.0</td>\n",
       "      <td>591.808824</td>\n",
       "      <td>93.313028</td>\n",
       "      <td>454.0</td>\n",
       "      <td>485.0</td>\n",
       "      <td>638.0</td>\n",
       "      <td>666.0</td>\n",
       "      <td>697.0</td>\n",
       "    </tr>\n",
       "    <tr>\n",
       "      <th>1</th>\n",
       "      <td>565.0</td>\n",
       "      <td>277.853097</td>\n",
       "      <td>44.662144</td>\n",
       "      <td>211.0</td>\n",
       "      <td>243.0</td>\n",
       "      <td>269.0</td>\n",
       "      <td>311.0</td>\n",
       "      <td>424.0</td>\n",
       "    </tr>\n",
       "    <tr>\n",
       "      <th>2</th>\n",
       "      <td>861.0</td>\n",
       "      <td>143.393728</td>\n",
       "      <td>35.161414</td>\n",
       "      <td>88.0</td>\n",
       "      <td>114.0</td>\n",
       "      <td>142.0</td>\n",
       "      <td>174.0</td>\n",
       "      <td>210.0</td>\n",
       "    </tr>\n",
       "    <tr>\n",
       "      <th>3</th>\n",
       "      <td>2456.0</td>\n",
       "      <td>32.469870</td>\n",
       "      <td>24.069517</td>\n",
       "      <td>0.0</td>\n",
       "      <td>12.0</td>\n",
       "      <td>25.0</td>\n",
       "      <td>51.0</td>\n",
       "      <td>87.0</td>\n",
       "    </tr>\n",
       "  </tbody>\n",
       "</table>\n",
       "</div>"
      ],
      "text/plain": [
       "                 count        mean        std    min    25%    50%    75%  \\\n",
       "RecencyCluster                                                              \n",
       "0                 68.0  591.808824  93.313028  454.0  485.0  638.0  666.0   \n",
       "1                565.0  277.853097  44.662144  211.0  243.0  269.0  311.0   \n",
       "2                861.0  143.393728  35.161414   88.0  114.0  142.0  174.0   \n",
       "3               2456.0   32.469870  24.069517    0.0   12.0   25.0   51.0   \n",
       "\n",
       "                  max  \n",
       "RecencyCluster         \n",
       "0               697.0  \n",
       "1               424.0  \n",
       "2               210.0  \n",
       "3                87.0  "
      ]
     },
     "execution_count": 60,
     "metadata": {},
     "output_type": "execute_result"
    }
   ],
   "source": [
    "#function for ordering cluster numbers and assigning them to each Customer in our dataframe tx_user.\n",
    "def order_cluster(cluster_field_name, target_field_name,df,ascending):\n",
    "    new_cluster_field_name = 'new_' + cluster_field_name\n",
    "    df_new = df.groupby(cluster_field_name)[target_field_name].mean().reset_index()\n",
    "    df_new = df_new.sort_values(by=target_field_name,ascending=ascending).reset_index(drop=True)\n",
    "    df_new['index'] = df_new.index\n",
    "    df_final = pd.merge(df,df_new[[cluster_field_name,'index']], on=cluster_field_name)\n",
    "    df_final = df_final.drop([cluster_field_name],axis=1)\n",
    "    df_final = df_final.rename(columns={\"index\":cluster_field_name})\n",
    "    return df_final\n",
    "\n",
    "tx_user = order_cluster('RecencyCluster', 'Recency',tx_user,False)\n",
    "\n",
    "tx_user.groupby('RecencyCluster')['Recency'].describe()"
   ]
  },
  {
   "cell_type": "markdown",
   "id": "49b035f7",
   "metadata": {},
   "source": [
    " cluster 3 covers most recent customers whereas 0 has the most inactive ones."
   ]
  },
  {
   "cell_type": "markdown",
   "id": "753d914c",
   "metadata": {},
   "source": [
    "FREQUENCY"
   ]
  },
  {
   "cell_type": "markdown",
   "id": "837fa9bf",
   "metadata": {},
   "source": [
    "To create frequency clusters, we need to find total number of orders for each customer."
   ]
  },
  {
   "cell_type": "code",
   "execution_count": 62,
   "id": "5d568d36",
   "metadata": {},
   "outputs": [
    {
     "data": {
      "image/png": "[encoded data removed]",
      "text/plain": [
       "<Figure size 720x360 with 1 Axes>"
      ]
     },
     "metadata": {
      "needs_background": "light"
     },
     "output_type": "display_data"
    }
   ],
   "source": [
    "tx_frequency = tx_uk.groupby('CustomerID').InvoiceDate.count().reset_index() #order count of each customer and creating a \n",
    "                                                                            #dataframe\n",
    "tx_frequency.columns = ['CustomerID','Frequency']\n",
    "tx_user = pd.merge(tx_user, tx_frequency, on='CustomerID') #adding to main dataframe\n",
    "\n",
    "\n",
    "#plotting\n",
    "plt.figure(figsize=[10,5])\n",
    "\n",
    "# plot histogram\n",
    "plt.hist(tx_user.query('Frequency < 1000')['Frequency'])\n",
    "# add formatting\n",
    "plt.xlabel(\"frequency\")\n",
    "plt.title(\"frequency score of customers\")\n",
    "plt.show()\n"
   ]
  },
  {
   "cell_type": "markdown",
   "id": "e60f6c3b",
   "metadata": {},
   "source": [
    "maximum frequency lies between 0 to 100"
   ]
  },
  {
   "cell_type": "code",
   "execution_count": 63,
   "id": "51ca8ebd",
   "metadata": {},
   "outputs": [
    {
     "data": {
      "text/html": [
       "<div>\n",
       "<style scoped>\n",
       "    .dataframe tbody tr th:only-of-type {\n",
       "        vertical-align: middle;\n",
       "    }\n",
       "\n",
       "    .dataframe tbody tr th {\n",
       "        vertical-align: top;\n",
       "    }\n",
       "\n",
       "    .dataframe thead th {\n",
       "        text-align: right;\n",
       "    }\n",
       "</style>\n",
       "<table border=\"1\" class=\"dataframe\">\n",
       "  <thead>\n",
       "    <tr style=\"text-align: right;\">\n",
       "      <th></th>\n",
       "      <th>CustomerID</th>\n",
       "      <th>Recency</th>\n",
       "      <th>RecencyCluster</th>\n",
       "      <th>Frequency</th>\n",
       "    </tr>\n",
       "  </thead>\n",
       "  <tbody>\n",
       "    <tr>\n",
       "      <th>count</th>\n",
       "      <td>3950.000000</td>\n",
       "      <td>3950.000000</td>\n",
       "      <td>3950.000000</td>\n",
       "      <td>3950.000000</td>\n",
       "    </tr>\n",
       "    <tr>\n",
       "      <th>mean</th>\n",
       "      <td>15562.029367</td>\n",
       "      <td>101.376709</td>\n",
       "      <td>2.444304</td>\n",
       "      <td>91.614684</td>\n",
       "    </tr>\n",
       "    <tr>\n",
       "      <th>std</th>\n",
       "      <td>1576.848325</td>\n",
       "      <td>114.006823</td>\n",
       "      <td>0.797763</td>\n",
       "      <td>220.557389</td>\n",
       "    </tr>\n",
       "    <tr>\n",
       "      <th>min</th>\n",
       "      <td>12346.000000</td>\n",
       "      <td>0.000000</td>\n",
       "      <td>0.000000</td>\n",
       "      <td>1.000000</td>\n",
       "    </tr>\n",
       "    <tr>\n",
       "      <th>25%</th>\n",
       "      <td>14208.250000</td>\n",
       "      <td>20.000000</td>\n",
       "      <td>2.000000</td>\n",
       "      <td>17.000000</td>\n",
       "    </tr>\n",
       "    <tr>\n",
       "      <th>50%</th>\n",
       "      <td>15571.500000</td>\n",
       "      <td>57.500000</td>\n",
       "      <td>3.000000</td>\n",
       "      <td>41.000000</td>\n",
       "    </tr>\n",
       "    <tr>\n",
       "      <th>75%</th>\n",
       "      <td>16913.750000</td>\n",
       "      <td>153.000000</td>\n",
       "      <td>3.000000</td>\n",
       "      <td>101.000000</td>\n",
       "    </tr>\n",
       "    <tr>\n",
       "      <th>max</th>\n",
       "      <td>18287.000000</td>\n",
       "      <td>697.000000</td>\n",
       "      <td>3.000000</td>\n",
       "      <td>7983.000000</td>\n",
       "    </tr>\n",
       "  </tbody>\n",
       "</table>\n",
       "</div>"
      ],
      "text/plain": [
       "         CustomerID      Recency  RecencyCluster    Frequency\n",
       "count   3950.000000  3950.000000     3950.000000  3950.000000\n",
       "mean   15562.029367   101.376709        2.444304    91.614684\n",
       "std     1576.848325   114.006823        0.797763   220.557389\n",
       "min    12346.000000     0.000000        0.000000     1.000000\n",
       "25%    14208.250000    20.000000        2.000000    17.000000\n",
       "50%    15571.500000    57.500000        3.000000    41.000000\n",
       "75%    16913.750000   153.000000        3.000000   101.000000\n",
       "max    18287.000000   697.000000        3.000000  7983.000000"
      ]
     },
     "execution_count": 63,
     "metadata": {},
     "output_type": "execute_result"
    }
   ],
   "source": [
    "tx_user.describe()"
   ]
  },
  {
   "cell_type": "markdown",
   "id": "4df33b41",
   "metadata": {},
   "source": [
    "We see that even though the average is 91 days frequency, median is 41 days."
   ]
  },
  {
   "cell_type": "code",
   "execution_count": 105,
   "id": "f9352d75",
   "metadata": {},
   "outputs": [],
   "source": [
    "#Applying K-means clustering to assign a fequency score via Elbow Method below:\n",
    "\n"
   ]
  },
  {
   "cell_type": "code",
   "execution_count": 102,
   "id": "b74c3171",
   "metadata": {},
   "outputs": [
    {
     "data": {
      "image/png": "[encoded data removed]",
      "text/plain": [
       "<Figure size 432x288 with 1 Axes>"
      ]
     },
     "metadata": {
      "needs_background": "light"
     },
     "output_type": "display_data"
    }
   ],
   "source": [
    "from sklearn.cluster import KMeans\n",
    "wcss =[]\n",
    "for i in range(1, 11): \n",
    "    kmeans = KMeans(n_clusters = i, init = 'k-means++', random_state = 42)\n",
    "    kmeans.fit(tx_frequency) \n",
    "    wcss.append(kmeans.inertia_)\n",
    "    \n",
    "plt.plot(range(1, 11), wcss)\n",
    "plt.xlabel('Number of clusters')\n",
    "plt.ylabel('WCSS') \n",
    "plt.show()"
   ]
  },
  {
   "cell_type": "code",
   "execution_count": 106,
   "id": "4924fd5f",
   "metadata": {},
   "outputs": [
    {
     "data": {
      "text/html": [
       "<div>\n",
       "<style scoped>\n",
       "    .dataframe tbody tr th:only-of-type {\n",
       "        vertical-align: middle;\n",
       "    }\n",
       "\n",
       "    .dataframe tbody tr th {\n",
       "        vertical-align: top;\n",
       "    }\n",
       "\n",
       "    .dataframe thead th {\n",
       "        text-align: right;\n",
       "    }\n",
       "</style>\n",
       "<table border=\"1\" class=\"dataframe\">\n",
       "  <thead>\n",
       "    <tr style=\"text-align: right;\">\n",
       "      <th></th>\n",
       "      <th>count</th>\n",
       "      <th>mean</th>\n",
       "      <th>std</th>\n",
       "      <th>min</th>\n",
       "      <th>25%</th>\n",
       "      <th>50%</th>\n",
       "      <th>75%</th>\n",
       "      <th>max</th>\n",
       "    </tr>\n",
       "    <tr>\n",
       "      <th>FrequencyCluster</th>\n",
       "      <th></th>\n",
       "      <th></th>\n",
       "      <th></th>\n",
       "      <th></th>\n",
       "      <th></th>\n",
       "      <th></th>\n",
       "      <th></th>\n",
       "      <th></th>\n",
       "    </tr>\n",
       "  </thead>\n",
       "  <tbody>\n",
       "    <tr>\n",
       "      <th>0</th>\n",
       "      <td>3496.0</td>\n",
       "      <td>49.525744</td>\n",
       "      <td>44.954212</td>\n",
       "      <td>1.0</td>\n",
       "      <td>15.0</td>\n",
       "      <td>33.0</td>\n",
       "      <td>73.0</td>\n",
       "      <td>190.0</td>\n",
       "    </tr>\n",
       "    <tr>\n",
       "      <th>1</th>\n",
       "      <td>429.0</td>\n",
       "      <td>331.221445</td>\n",
       "      <td>133.856510</td>\n",
       "      <td>191.0</td>\n",
       "      <td>228.0</td>\n",
       "      <td>287.0</td>\n",
       "      <td>399.0</td>\n",
       "      <td>803.0</td>\n",
       "    </tr>\n",
       "    <tr>\n",
       "      <th>2</th>\n",
       "      <td>22.0</td>\n",
       "      <td>1313.136364</td>\n",
       "      <td>505.934524</td>\n",
       "      <td>872.0</td>\n",
       "      <td>988.5</td>\n",
       "      <td>1140.0</td>\n",
       "      <td>1452.0</td>\n",
       "      <td>2782.0</td>\n",
       "    </tr>\n",
       "    <tr>\n",
       "      <th>3</th>\n",
       "      <td>3.0</td>\n",
       "      <td>5917.666667</td>\n",
       "      <td>1805.062418</td>\n",
       "      <td>4642.0</td>\n",
       "      <td>4885.0</td>\n",
       "      <td>5128.0</td>\n",
       "      <td>6555.5</td>\n",
       "      <td>7983.0</td>\n",
       "    </tr>\n",
       "  </tbody>\n",
       "</table>\n",
       "</div>"
      ],
      "text/plain": [
       "                   count         mean          std     min     25%     50%  \\\n",
       "FrequencyCluster                                                             \n",
       "0                 3496.0    49.525744    44.954212     1.0    15.0    33.0   \n",
       "1                  429.0   331.221445   133.856510   191.0   228.0   287.0   \n",
       "2                   22.0  1313.136364   505.934524   872.0   988.5  1140.0   \n",
       "3                    3.0  5917.666667  1805.062418  4642.0  4885.0  5128.0   \n",
       "\n",
       "                     75%     max  \n",
       "FrequencyCluster                  \n",
       "0                   73.0   190.0  \n",
       "1                  399.0   803.0  \n",
       "2                 1452.0  2782.0  \n",
       "3                 6555.5  7983.0  "
      ]
     },
     "execution_count": 106,
     "metadata": {},
     "output_type": "execute_result"
    }
   ],
   "source": [
    "# Assigning clusters to customers\n",
    "#k-means\n",
    "kmeans = KMeans(n_clusters=4)\n",
    "kmeans.fit(tx_user[['Frequency']])\n",
    "tx_user['FrequencyCluster'] = kmeans.predict(tx_user[['Frequency']])\n",
    "\n",
    "#order the frequency cluster\n",
    "tx_user = order_cluster('FrequencyCluster', 'Frequency',tx_user,True)\n",
    "\n",
    "#see details of each cluster\n",
    "tx_user.groupby('FrequencyCluster')['Frequency'].describe()"
   ]
  },
  {
   "cell_type": "markdown",
   "id": "e81688ee",
   "metadata": {},
   "source": [
    "#REVENUE\n",
    "\n",
    "Calculating revenue for each customer and  plotting a histogram and applying the same clustering method."
   ]
  },
  {
   "cell_type": "code",
   "execution_count": 109,
   "id": "aa8ae79b",
   "metadata": {},
   "outputs": [
    {
     "data": {
      "image/png": "[encoded data removed]",
      "text/plain": [
       "<Figure size 720x360 with 1 Axes>"
      ]
     },
     "metadata": {
      "needs_background": "light"
     },
     "output_type": "display_data"
    }
   ],
   "source": [
    "# revenue for each customer\n",
    "tx_uk['Revenue'] = tx_uk['UnitPrice'] * tx_uk['Quantity']\n",
    "tx_revenue = tx_uk.groupby('CustomerID').Revenue.sum().reset_index()\n",
    "\n",
    "#merging it with our main dataframe\n",
    "tx_user = pd.merge(tx_user, tx_revenue, on='CustomerID')\n",
    "\n",
    "#plotting the histogram\n",
    "plt.figure(figsize=[10,5])\n",
    "\n",
    "plt.hist(tx_user.query('Revenue < 10000')['Revenue'])\n",
    "# add formatting\n",
    "plt.xlabel(\"revenue\")\n",
    "plt.title(\"monetary value\")\n",
    "plt.show()"
   ]
  },
  {
   "cell_type": "markdown",
   "id": "d6e02eff",
   "metadata": {},
   "source": [
    " some customers have negative revenue too. Applying k-means clustering:"
   ]
  },
  {
   "cell_type": "markdown",
   "id": "18078c04",
   "metadata": {},
   "source": [
    "Maximum revenue earned is between 0 to 1000"
   ]
  },
  {
   "cell_type": "code",
   "execution_count": 110,
   "id": "6a4bbfd6",
   "metadata": {},
   "outputs": [
    {
     "data": {
      "image/png": "[encoded data removed]",
      "text/plain": [
       "<Figure size 432x288 with 1 Axes>"
      ]
     },
     "metadata": {
      "needs_background": "light"
     },
     "output_type": "display_data"
    }
   ],
   "source": [
    "from sklearn.cluster import KMeans\n",
    "wcss =[]\n",
    "for i in range(1, 11): \n",
    "    kmeans = KMeans(n_clusters = i, init = 'k-means++', random_state = 42)\n",
    "    kmeans.fit(tx_revenue) \n",
    "    wcss.append(kmeans.inertia_)\n",
    "    \n",
    "plt.plot(range(1, 11), wcss)\n",
    "plt.xlabel('Number of clusters')\n",
    "plt.ylabel('WCSS') \n",
    "plt.show()"
   ]
  },
  {
   "cell_type": "code",
   "execution_count": 128,
   "id": "9a6a2d26",
   "metadata": {},
   "outputs": [
    {
     "data": {
      "text/html": [
       "<div>\n",
       "<style scoped>\n",
       "    .dataframe tbody tr th:only-of-type {\n",
       "        vertical-align: middle;\n",
       "    }\n",
       "\n",
       "    .dataframe tbody tr th {\n",
       "        vertical-align: top;\n",
       "    }\n",
       "\n",
       "    .dataframe thead th {\n",
       "        text-align: right;\n",
       "    }\n",
       "</style>\n",
       "<table border=\"1\" class=\"dataframe\">\n",
       "  <thead>\n",
       "    <tr style=\"text-align: right;\">\n",
       "      <th></th>\n",
       "      <th>count</th>\n",
       "      <th>mean</th>\n",
       "      <th>std</th>\n",
       "      <th>min</th>\n",
       "      <th>25%</th>\n",
       "      <th>50%</th>\n",
       "      <th>75%</th>\n",
       "      <th>max</th>\n",
       "    </tr>\n",
       "    <tr>\n",
       "      <th>RevenueCluster</th>\n",
       "      <th></th>\n",
       "      <th></th>\n",
       "      <th></th>\n",
       "      <th></th>\n",
       "      <th></th>\n",
       "      <th></th>\n",
       "      <th></th>\n",
       "      <th></th>\n",
       "    </tr>\n",
       "  </thead>\n",
       "  <tbody>\n",
       "    <tr>\n",
       "      <th>0</th>\n",
       "      <td>3687.0</td>\n",
       "      <td>907.254414</td>\n",
       "      <td>921.910820</td>\n",
       "      <td>-4287.63</td>\n",
       "      <td>263.115</td>\n",
       "      <td>572.56</td>\n",
       "      <td>1258.220</td>\n",
       "      <td>4314.72</td>\n",
       "    </tr>\n",
       "    <tr>\n",
       "      <th>1</th>\n",
       "      <td>234.0</td>\n",
       "      <td>7760.699530</td>\n",
       "      <td>3637.173671</td>\n",
       "      <td>4330.67</td>\n",
       "      <td>5161.485</td>\n",
       "      <td>6549.38</td>\n",
       "      <td>9142.305</td>\n",
       "      <td>21535.90</td>\n",
       "    </tr>\n",
       "    <tr>\n",
       "      <th>2</th>\n",
       "      <td>27.0</td>\n",
       "      <td>43070.445185</td>\n",
       "      <td>15939.249588</td>\n",
       "      <td>25748.35</td>\n",
       "      <td>28865.490</td>\n",
       "      <td>36351.42</td>\n",
       "      <td>53489.790</td>\n",
       "      <td>88125.38</td>\n",
       "    </tr>\n",
       "    <tr>\n",
       "      <th>3</th>\n",
       "      <td>2.0</td>\n",
       "      <td>221960.330000</td>\n",
       "      <td>48759.481478</td>\n",
       "      <td>187482.17</td>\n",
       "      <td>204721.250</td>\n",
       "      <td>221960.33</td>\n",
       "      <td>239199.410</td>\n",
       "      <td>256438.49</td>\n",
       "    </tr>\n",
       "  </tbody>\n",
       "</table>\n",
       "</div>"
      ],
      "text/plain": [
       "                 count           mean           std        min         25%  \\\n",
       "RevenueCluster                                                               \n",
       "0               3687.0     907.254414    921.910820   -4287.63     263.115   \n",
       "1                234.0    7760.699530   3637.173671    4330.67    5161.485   \n",
       "2                 27.0   43070.445185  15939.249588   25748.35   28865.490   \n",
       "3                  2.0  221960.330000  48759.481478  187482.17  204721.250   \n",
       "\n",
       "                      50%         75%        max  \n",
       "RevenueCluster                                    \n",
       "0                  572.56    1258.220    4314.72  \n",
       "1                 6549.38    9142.305   21535.90  \n",
       "2                36351.42   53489.790   88125.38  \n",
       "3               221960.33  239199.410  256438.49  "
      ]
     },
     "execution_count": 128,
     "metadata": {},
     "output_type": "execute_result"
    }
   ],
   "source": [
    "#apply clustering\n",
    "kmeans = KMeans(n_clusters=4)\n",
    "kmeans.fit(tx_user[['Revenue']])\n",
    "tx_user['RevenueCluster'] = kmeans.predict(tx_user[['Revenue']])\n",
    "\n",
    "\n",
    "#order the cluster numbers\n",
    "tx_user = order_cluster('RevenueCluster', 'Revenue',tx_user,True)\n",
    "\n",
    "#show details of the dataframe\n",
    "tx_user.groupby('RevenueCluster')['Revenue'].describe()"
   ]
  },
  {
   "cell_type": "code",
   "execution_count": 129,
   "id": "4df8544c",
   "metadata": {},
   "outputs": [
    {
     "data": {
      "text/html": [
       "<div>\n",
       "<style scoped>\n",
       "    .dataframe tbody tr th:only-of-type {\n",
       "        vertical-align: middle;\n",
       "    }\n",
       "\n",
       "    .dataframe tbody tr th {\n",
       "        vertical-align: top;\n",
       "    }\n",
       "\n",
       "    .dataframe thead th {\n",
       "        text-align: right;\n",
       "    }\n",
       "</style>\n",
       "<table border=\"1\" class=\"dataframe\">\n",
       "  <thead>\n",
       "    <tr style=\"text-align: right;\">\n",
       "      <th></th>\n",
       "      <th>CustomerID</th>\n",
       "      <th>Recency</th>\n",
       "      <th>RecencyCluster</th>\n",
       "      <th>Frequency</th>\n",
       "      <th>FrequencyCluster</th>\n",
       "      <th>Revenue_x</th>\n",
       "      <th>Revenue_y</th>\n",
       "      <th>Revenue</th>\n",
       "      <th>OverallScore</th>\n",
       "      <th>Segment</th>\n",
       "      <th>RevenueCluster</th>\n",
       "    </tr>\n",
       "  </thead>\n",
       "  <tbody>\n",
       "    <tr>\n",
       "      <th>0</th>\n",
       "      <td>17850.0</td>\n",
       "      <td>69</td>\n",
       "      <td>3</td>\n",
       "      <td>312</td>\n",
       "      <td>1</td>\n",
       "      <td>5288.63</td>\n",
       "      <td>5288.63</td>\n",
       "      <td>5288.63</td>\n",
       "      <td>5</td>\n",
       "      <td>High-Value</td>\n",
       "      <td>1</td>\n",
       "    </tr>\n",
       "    <tr>\n",
       "      <th>1</th>\n",
       "      <td>14688.0</td>\n",
       "      <td>0</td>\n",
       "      <td>3</td>\n",
       "      <td>359</td>\n",
       "      <td>1</td>\n",
       "      <td>5107.38</td>\n",
       "      <td>5107.38</td>\n",
       "      <td>5107.38</td>\n",
       "      <td>5</td>\n",
       "      <td>High-Value</td>\n",
       "      <td>1</td>\n",
       "    </tr>\n",
       "    <tr>\n",
       "      <th>2</th>\n",
       "      <td>13767.0</td>\n",
       "      <td>26</td>\n",
       "      <td>3</td>\n",
       "      <td>399</td>\n",
       "      <td>1</td>\n",
       "      <td>16945.71</td>\n",
       "      <td>16945.71</td>\n",
       "      <td>16945.71</td>\n",
       "      <td>5</td>\n",
       "      <td>High-Value</td>\n",
       "      <td>1</td>\n",
       "    </tr>\n",
       "    <tr>\n",
       "      <th>3</th>\n",
       "      <td>15513.0</td>\n",
       "      <td>5</td>\n",
       "      <td>3</td>\n",
       "      <td>314</td>\n",
       "      <td>1</td>\n",
       "      <td>14520.08</td>\n",
       "      <td>14520.08</td>\n",
       "      <td>14520.08</td>\n",
       "      <td>5</td>\n",
       "      <td>High-Value</td>\n",
       "      <td>1</td>\n",
       "    </tr>\n",
       "    <tr>\n",
       "      <th>4</th>\n",
       "      <td>14849.0</td>\n",
       "      <td>2</td>\n",
       "      <td>3</td>\n",
       "      <td>392</td>\n",
       "      <td>1</td>\n",
       "      <td>7904.28</td>\n",
       "      <td>7904.28</td>\n",
       "      <td>7904.28</td>\n",
       "      <td>5</td>\n",
       "      <td>High-Value</td>\n",
       "      <td>1</td>\n",
       "    </tr>\n",
       "  </tbody>\n",
       "</table>\n",
       "</div>"
      ],
      "text/plain": [
       "   CustomerID  Recency  RecencyCluster  Frequency  FrequencyCluster  \\\n",
       "0     17850.0       69               3        312                 1   \n",
       "1     14688.0        0               3        359                 1   \n",
       "2     13767.0       26               3        399                 1   \n",
       "3     15513.0        5               3        314                 1   \n",
       "4     14849.0        2               3        392                 1   \n",
       "\n",
       "   Revenue_x  Revenue_y   Revenue  OverallScore     Segment  RevenueCluster  \n",
       "0    5288.63    5288.63   5288.63             5  High-Value               1  \n",
       "1    5107.38    5107.38   5107.38             5  High-Value               1  \n",
       "2   16945.71   16945.71  16945.71             5  High-Value               1  \n",
       "3   14520.08   14520.08  14520.08             5  High-Value               1  \n",
       "4    7904.28    7904.28   7904.28             5  High-Value               1  "
      ]
     },
     "execution_count": 129,
     "metadata": {},
     "output_type": "execute_result"
    }
   ],
   "source": [
    "tx_user.head()"
   ]
  },
  {
   "cell_type": "markdown",
   "id": "a244759f",
   "metadata": {},
   "source": [
    "#OVERALL SCORE\n",
    "We have scores (cluster numbers) for recency, frequency & revenue. Let’s create an overall score out of them:"
   ]
  },
  {
   "cell_type": "code",
   "execution_count": 113,
   "id": "8c6eba29",
   "metadata": {},
   "outputs": [
    {
     "name": "stderr",
     "output_type": "stream",
     "text": [
      "C:\\Users\\user\\AppData\\Local\\Temp\\ipykernel_15012\\1331864602.py:2: FutureWarning:\n",
      "\n",
      "Indexing with multiple keys (implicitly converted to a tuple of keys) will be deprecated, use a list instead.\n",
      "\n"
     ]
    },
    {
     "data": {
      "text/html": [
       "<div>\n",
       "<style scoped>\n",
       "    .dataframe tbody tr th:only-of-type {\n",
       "        vertical-align: middle;\n",
       "    }\n",
       "\n",
       "    .dataframe tbody tr th {\n",
       "        vertical-align: top;\n",
       "    }\n",
       "\n",
       "    .dataframe thead th {\n",
       "        text-align: right;\n",
       "    }\n",
       "</style>\n",
       "<table border=\"1\" class=\"dataframe\">\n",
       "  <thead>\n",
       "    <tr style=\"text-align: right;\">\n",
       "      <th></th>\n",
       "      <th>Recency</th>\n",
       "      <th>Frequency</th>\n",
       "      <th>Revenue</th>\n",
       "    </tr>\n",
       "    <tr>\n",
       "      <th>OverallScore</th>\n",
       "      <th></th>\n",
       "      <th></th>\n",
       "      <th></th>\n",
       "    </tr>\n",
       "  </thead>\n",
       "  <tbody>\n",
       "    <tr>\n",
       "      <th>0</th>\n",
       "      <td>591.808824</td>\n",
       "      <td>19.750000</td>\n",
       "      <td>198.370588</td>\n",
       "    </tr>\n",
       "    <tr>\n",
       "      <th>1</th>\n",
       "      <td>278.092692</td>\n",
       "      <td>25.262032</td>\n",
       "      <td>351.812478</td>\n",
       "    </tr>\n",
       "    <tr>\n",
       "      <th>2</th>\n",
       "      <td>144.509569</td>\n",
       "      <td>39.671053</td>\n",
       "      <td>629.868911</td>\n",
       "    </tr>\n",
       "    <tr>\n",
       "      <th>3</th>\n",
       "      <td>36.669363</td>\n",
       "      <td>61.902427</td>\n",
       "      <td>1023.488157</td>\n",
       "    </tr>\n",
       "    <tr>\n",
       "      <th>4</th>\n",
       "      <td>24.894081</td>\n",
       "      <td>264.252336</td>\n",
       "      <td>3760.443489</td>\n",
       "    </tr>\n",
       "    <tr>\n",
       "      <th>5</th>\n",
       "      <td>16.033557</td>\n",
       "      <td>373.255034</td>\n",
       "      <td>8923.955570</td>\n",
       "    </tr>\n",
       "    <tr>\n",
       "      <th>6</th>\n",
       "      <td>13.148148</td>\n",
       "      <td>876.037037</td>\n",
       "      <td>22777.914815</td>\n",
       "    </tr>\n",
       "    <tr>\n",
       "      <th>7</th>\n",
       "      <td>13.142857</td>\n",
       "      <td>1272.714286</td>\n",
       "      <td>103954.025714</td>\n",
       "    </tr>\n",
       "    <tr>\n",
       "      <th>8</th>\n",
       "      <td>5.333333</td>\n",
       "      <td>5917.666667</td>\n",
       "      <td>42177.930000</td>\n",
       "    </tr>\n",
       "  </tbody>\n",
       "</table>\n",
       "</div>"
      ],
      "text/plain": [
       "                 Recency    Frequency        Revenue\n",
       "OverallScore                                        \n",
       "0             591.808824    19.750000     198.370588\n",
       "1             278.092692    25.262032     351.812478\n",
       "2             144.509569    39.671053     629.868911\n",
       "3              36.669363    61.902427    1023.488157\n",
       "4              24.894081   264.252336    3760.443489\n",
       "5              16.033557   373.255034    8923.955570\n",
       "6              13.148148   876.037037   22777.914815\n",
       "7              13.142857  1272.714286  103954.025714\n",
       "8               5.333333  5917.666667   42177.930000"
      ]
     },
     "execution_count": 113,
     "metadata": {},
     "output_type": "execute_result"
    }
   ],
   "source": [
    "tx_user['OverallScore'] = tx_user['RecencyCluster'] + tx_user['FrequencyCluster'] + tx_user['RevenueCluster']\n",
    "tx_user.groupby('OverallScore')['Recency','Frequency','Revenue'].mean()"
   ]
  },
  {
   "cell_type": "markdown",
   "id": "c2f00e41",
   "metadata": {},
   "source": [
    "The scoring above clearly shows us that customers with score 8 is our best customers whereas 0 is the worst."
   ]
  },
  {
   "cell_type": "markdown",
   "id": "b3b3abc5",
   "metadata": {},
   "source": [
    "To keep things simple,we name these scores:"
   ]
  },
  {
   "cell_type": "markdown",
   "id": "fdee0220",
   "metadata": {},
   "source": [
    "0 to 2: Low Value"
   ]
  },
  {
   "cell_type": "markdown",
   "id": "5c40c7db",
   "metadata": {},
   "source": [
    "3 to 4: Mid Value"
   ]
  },
  {
   "cell_type": "markdown",
   "id": "c3401b36",
   "metadata": {},
   "source": [
    "5+: High Value"
   ]
  },
  {
   "cell_type": "markdown",
   "id": "65374ee1",
   "metadata": {},
   "source": [
    "We can easily apply this naming on our dataframe:"
   ]
  },
  {
   "cell_type": "code",
   "execution_count": 118,
   "id": "e5199a57",
   "metadata": {},
   "outputs": [],
   "source": [
    "tx_user['Segment'] = 'Low-Value'\n",
    "tx_user.loc[tx_user['OverallScore']>2,'Segment'] = 'Mid-Value' \n",
    "tx_user.loc[tx_user['OverallScore']>4,'Segment'] = 'High-Value' "
   ]
  },
  {
   "cell_type": "code",
   "execution_count": 127,
   "id": "30e330b7",
   "metadata": {},
   "outputs": [
    {
     "data": {
      "text/html": [
       "<div>\n",
       "<style scoped>\n",
       "    .dataframe tbody tr th:only-of-type {\n",
       "        vertical-align: middle;\n",
       "    }\n",
       "\n",
       "    .dataframe tbody tr th {\n",
       "        vertical-align: top;\n",
       "    }\n",
       "\n",
       "    .dataframe thead th {\n",
       "        text-align: right;\n",
       "    }\n",
       "</style>\n",
       "<table border=\"1\" class=\"dataframe\">\n",
       "  <thead>\n",
       "    <tr style=\"text-align: right;\">\n",
       "      <th></th>\n",
       "      <th>CustomerID</th>\n",
       "      <th>Recency</th>\n",
       "      <th>RecencyCluster</th>\n",
       "      <th>Frequency</th>\n",
       "      <th>FrequencyCluster</th>\n",
       "      <th>Revenue_x</th>\n",
       "      <th>Revenue_y</th>\n",
       "      <th>Revenue</th>\n",
       "      <th>RevenueCluster</th>\n",
       "      <th>OverallScore</th>\n",
       "      <th>Segment</th>\n",
       "    </tr>\n",
       "  </thead>\n",
       "  <tbody>\n",
       "    <tr>\n",
       "      <th>1792</th>\n",
       "      <td>16796.0</td>\n",
       "      <td>31</td>\n",
       "      <td>3</td>\n",
       "      <td>18</td>\n",
       "      <td>0</td>\n",
       "      <td>305.62</td>\n",
       "      <td>305.62</td>\n",
       "      <td>305.62</td>\n",
       "      <td>0</td>\n",
       "      <td>3</td>\n",
       "      <td>Mid-Value</td>\n",
       "    </tr>\n",
       "    <tr>\n",
       "      <th>2714</th>\n",
       "      <td>12881.0</td>\n",
       "      <td>98</td>\n",
       "      <td>2</td>\n",
       "      <td>7</td>\n",
       "      <td>0</td>\n",
       "      <td>298.00</td>\n",
       "      <td>298.00</td>\n",
       "      <td>298.00</td>\n",
       "      <td>0</td>\n",
       "      <td>2</td>\n",
       "      <td>Low-Value</td>\n",
       "    </tr>\n",
       "    <tr>\n",
       "      <th>1102</th>\n",
       "      <td>16573.0</td>\n",
       "      <td>74</td>\n",
       "      <td>3</td>\n",
       "      <td>46</td>\n",
       "      <td>0</td>\n",
       "      <td>648.41</td>\n",
       "      <td>648.41</td>\n",
       "      <td>648.41</td>\n",
       "      <td>0</td>\n",
       "      <td>3</td>\n",
       "      <td>Mid-Value</td>\n",
       "    </tr>\n",
       "    <tr>\n",
       "      <th>2149</th>\n",
       "      <td>15286.0</td>\n",
       "      <td>50</td>\n",
       "      <td>3</td>\n",
       "      <td>3</td>\n",
       "      <td>0</td>\n",
       "      <td>240.55</td>\n",
       "      <td>240.55</td>\n",
       "      <td>240.55</td>\n",
       "      <td>0</td>\n",
       "      <td>3</td>\n",
       "      <td>Mid-Value</td>\n",
       "    </tr>\n",
       "    <tr>\n",
       "      <th>3576</th>\n",
       "      <td>15397.0</td>\n",
       "      <td>290</td>\n",
       "      <td>1</td>\n",
       "      <td>6</td>\n",
       "      <td>0</td>\n",
       "      <td>94.00</td>\n",
       "      <td>94.00</td>\n",
       "      <td>94.00</td>\n",
       "      <td>0</td>\n",
       "      <td>1</td>\n",
       "      <td>Low-Value</td>\n",
       "    </tr>\n",
       "    <tr>\n",
       "      <th>57</th>\n",
       "      <td>14051.0</td>\n",
       "      <td>18</td>\n",
       "      <td>3</td>\n",
       "      <td>215</td>\n",
       "      <td>1</td>\n",
       "      <td>15477.34</td>\n",
       "      <td>15477.34</td>\n",
       "      <td>15477.34</td>\n",
       "      <td>1</td>\n",
       "      <td>5</td>\n",
       "      <td>High-Value</td>\n",
       "    </tr>\n",
       "    <tr>\n",
       "      <th>3429</th>\n",
       "      <td>17525.0</td>\n",
       "      <td>360</td>\n",
       "      <td>1</td>\n",
       "      <td>9</td>\n",
       "      <td>0</td>\n",
       "      <td>422.70</td>\n",
       "      <td>422.70</td>\n",
       "      <td>422.70</td>\n",
       "      <td>0</td>\n",
       "      <td>1</td>\n",
       "      <td>Low-Value</td>\n",
       "    </tr>\n",
       "    <tr>\n",
       "      <th>157</th>\n",
       "      <td>15093.0</td>\n",
       "      <td>19</td>\n",
       "      <td>3</td>\n",
       "      <td>112</td>\n",
       "      <td>0</td>\n",
       "      <td>4410.14</td>\n",
       "      <td>4410.14</td>\n",
       "      <td>4410.14</td>\n",
       "      <td>1</td>\n",
       "      <td>4</td>\n",
       "      <td>Mid-Value</td>\n",
       "    </tr>\n",
       "    <tr>\n",
       "      <th>1597</th>\n",
       "      <td>13761.0</td>\n",
       "      <td>51</td>\n",
       "      <td>3</td>\n",
       "      <td>70</td>\n",
       "      <td>0</td>\n",
       "      <td>1070.65</td>\n",
       "      <td>1070.65</td>\n",
       "      <td>1070.65</td>\n",
       "      <td>0</td>\n",
       "      <td>3</td>\n",
       "      <td>Mid-Value</td>\n",
       "    </tr>\n",
       "    <tr>\n",
       "      <th>1660</th>\n",
       "      <td>15467.0</td>\n",
       "      <td>10</td>\n",
       "      <td>3</td>\n",
       "      <td>53</td>\n",
       "      <td>0</td>\n",
       "      <td>511.88</td>\n",
       "      <td>511.88</td>\n",
       "      <td>511.88</td>\n",
       "      <td>0</td>\n",
       "      <td>3</td>\n",
       "      <td>Mid-Value</td>\n",
       "    </tr>\n",
       "  </tbody>\n",
       "</table>\n",
       "</div>"
      ],
      "text/plain": [
       "      CustomerID  Recency  RecencyCluster  Frequency  FrequencyCluster  \\\n",
       "1792     16796.0       31               3         18                 0   \n",
       "2714     12881.0       98               2          7                 0   \n",
       "1102     16573.0       74               3         46                 0   \n",
       "2149     15286.0       50               3          3                 0   \n",
       "3576     15397.0      290               1          6                 0   \n",
       "57       14051.0       18               3        215                 1   \n",
       "3429     17525.0      360               1          9                 0   \n",
       "157      15093.0       19               3        112                 0   \n",
       "1597     13761.0       51               3         70                 0   \n",
       "1660     15467.0       10               3         53                 0   \n",
       "\n",
       "      Revenue_x  Revenue_y   Revenue  RevenueCluster  OverallScore     Segment  \n",
       "1792     305.62     305.62    305.62               0             3   Mid-Value  \n",
       "2714     298.00     298.00    298.00               0             2   Low-Value  \n",
       "1102     648.41     648.41    648.41               0             3   Mid-Value  \n",
       "2149     240.55     240.55    240.55               0             3   Mid-Value  \n",
       "3576      94.00      94.00     94.00               0             1   Low-Value  \n",
       "57     15477.34   15477.34  15477.34               1             5  High-Value  \n",
       "3429     422.70     422.70    422.70               0             1   Low-Value  \n",
       "157     4410.14    4410.14   4410.14               1             4   Mid-Value  \n",
       "1597    1070.65    1070.65   1070.65               0             3   Mid-Value  \n",
       "1660     511.88     511.88    511.88               0             3   Mid-Value  "
      ]
     },
     "execution_count": 127,
     "metadata": {},
     "output_type": "execute_result"
    }
   ],
   "source": [
    "tx_user.sample(10)"
   ]
  },
  {
   "cell_type": "markdown",
   "id": "e350cf70",
   "metadata": {},
   "source": [
    "The main strategies that can be undertaken are quite clear:"
   ]
  },
  {
   "cell_type": "markdown",
   "id": "283b6f56",
   "metadata": {},
   "source": [
    "High Value: Improve Retention"
   ]
  },
  {
   "cell_type": "markdown",
   "id": "cda8fdb3",
   "metadata": {},
   "source": [
    "Mid Value: Improve Retention + Increase Frequency (customers can be pushed to buy more)"
   ]
  },
  {
   "cell_type": "markdown",
   "id": "35a60426",
   "metadata": {},
   "source": [
    "Low Value: Increase Frequency"
   ]
  },
  {
   "cell_type": "markdown",
   "id": "25d37a2c",
   "metadata": {},
   "source": [
    "Based on the data analysis, we can make strategies and take decisions about how much money to invest in acquiring new customers and retaining existing ones."
   ]
  },
  {
   "cell_type": "markdown",
   "id": "216f25cb",
   "metadata": {},
   "source": []
  }
 ],
 "metadata": {
  "kernelspec": {
   "display_name": "Python 3 (ipykernel)",
   "language": "python",
   "name": "python3"
  },
  "language_info": {
   "codemirror_mode": {
    "name": "ipython",
    "version": 3
   },
   "file_extension": ".py",
   "mimetype": "text/x-python",
   "name": "python",
   "nbconvert_exporter": "python",
   "pygments_lexer": "ipython3",
   "version": "3.9.12"
  }
 },
 "nbformat": 4,
 "nbformat_minor": 5
}
